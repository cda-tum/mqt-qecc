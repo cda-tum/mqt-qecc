{
 "cells": [
  {
   "cell_type": "code",
   "execution_count": null,
   "metadata": {},
   "outputs": [],
   "source": [
    "import networkx as nx\n",
    "import numpy as np\n",
    "import stim\n",
    "\n",
    "import mqt.qecc.co3 as co\n",
    "from mqt.qecc import CSSCode"
   ]
  },
  {
   "cell_type": "markdown",
   "metadata": {},
   "source": [
    "## Examples for Snake Constructions"
   ]
  },
  {
   "cell_type": "markdown",
   "metadata": {},
   "source": [
    "### Color Code snakes stitched together by semi transparent domain walls"
   ]
  },
  {
   "cell_type": "markdown",
   "metadata": {},
   "source": [
    "#### Example with $d=5$"
   ]
  },
  {
   "cell_type": "code",
   "execution_count": null,
   "metadata": {},
   "outputs": [],
   "source": [
    "m = 12\n",
    "n = 12\n",
    "\n",
    "g = nx.hexagonal_lattice_graph(m=m, n=n, periodic=False, with_positions=True, create_using=None)"
   ]
  },
  {
   "cell_type": "code",
   "execution_count": null,
   "metadata": {},
   "outputs": [],
   "source": [
    "# qubit positions within each patch, must be given in the right order of adjacent patches\n",
    "positions = [\n",
    "    [\n",
    "        (1, 1),\n",
    "        (2, 1),\n",
    "        (3, 1),\n",
    "        (4, 1),\n",
    "        (5, 1),\n",
    "        (5, 2),\n",
    "        (4, 2),\n",
    "        (3, 2),\n",
    "        (2, 2),\n",
    "        (2, 3),\n",
    "        (3, 3),\n",
    "        (4, 3),\n",
    "        (4, 4),\n",
    "        (3, 4),\n",
    "        (2, 4),\n",
    "        (3, 5),\n",
    "        (4, 5),\n",
    "        (3, 6),\n",
    "        (3, 7),\n",
    "    ],\n",
    "    [\n",
    "        (6, 2),\n",
    "        (6, 3),\n",
    "        (6, 4),\n",
    "        (7, 4),\n",
    "        (7, 5),\n",
    "        (6, 5),\n",
    "        (5, 5),\n",
    "        (5, 6),\n",
    "        (6, 6),\n",
    "        (7, 6),\n",
    "        (8, 7),\n",
    "        (7, 7),\n",
    "        (6, 7),\n",
    "        (5, 7),\n",
    "        (4, 8),\n",
    "        (5, 8),\n",
    "        (6, 8),\n",
    "        (7, 8),\n",
    "        (8, 8),\n",
    "    ],\n",
    "    [\n",
    "        (4, 10),\n",
    "        (5, 10),\n",
    "        (6, 10),\n",
    "        (7, 10),\n",
    "        (8, 10),\n",
    "        (8, 11),\n",
    "        (7, 11),\n",
    "        (6, 11),\n",
    "        (5, 11),\n",
    "        (5, 12),\n",
    "        (6, 12),\n",
    "        (7, 12),\n",
    "        (7, 13),\n",
    "        (6, 13),\n",
    "        (5, 13),\n",
    "        (6, 14),\n",
    "        (7, 14),\n",
    "        (6, 15),\n",
    "        (6, 16),\n",
    "    ],\n",
    "    [\n",
    "        (9, 11),\n",
    "        (9, 12),\n",
    "        (9, 13),\n",
    "        (10, 13),\n",
    "        (10, 14),\n",
    "        (9, 14),\n",
    "        (8, 14),\n",
    "        (8, 15),\n",
    "        (9, 15),\n",
    "        (10, 15),\n",
    "        (11, 16),\n",
    "        (10, 16),\n",
    "        (9, 16),\n",
    "        (8, 16),\n",
    "        (7, 17),\n",
    "        (8, 17),\n",
    "        (9, 17),\n",
    "        (10, 17),\n",
    "        (11, 17),\n",
    "    ],\n",
    "]"
   ]
  },
  {
   "cell_type": "code",
   "execution_count": null,
   "metadata": {},
   "outputs": [],
   "source": [
    "d = 5\n",
    "snake = co.SnakeBuilderSTDW(g, positions, d)"
   ]
  },
  {
   "cell_type": "code",
   "execution_count": null,
   "metadata": {},
   "outputs": [],
   "source": [
    "z_plaquettes, x_plaquettes = snake.find_stabilizers()\n",
    "snake.q_tilde - (len(z_plaquettes) + len(x_plaquettes)) == 1"
   ]
  },
  {
   "cell_type": "code",
   "execution_count": null,
   "metadata": {},
   "outputs": [],
   "source": [
    "snake.plot_stabilizers(x_plaquettes)\n",
    "snake.plot_stabilizers(z_plaquettes)"
   ]
  },
  {
   "cell_type": "code",
   "execution_count": null,
   "metadata": {},
   "outputs": [],
   "source": [
    "hz = snake.gen_check_matrix(z_plaquettes)\n",
    "hx = snake.gen_check_matrix(x_plaquettes)"
   ]
  },
  {
   "cell_type": "code",
   "execution_count": null,
   "metadata": {},
   "outputs": [],
   "source": [
    "# consider the boundary patches to be logical and find the subset of stabilizers to measure the logical ZZ between them\n",
    "subset_stabs = snake.find_stabilizers_zz()\n",
    "assert snake.test_zz_stabs(subset_stabs) is True\n",
    "\n",
    "snake.plot_stabilizers(subset_stabs)"
   ]
  },
  {
   "cell_type": "markdown",
   "metadata": {},
   "source": [
    "#### Example with $d=7$"
   ]
  },
  {
   "cell_type": "code",
   "execution_count": null,
   "metadata": {},
   "outputs": [],
   "source": [
    "m = 12\n",
    "n = 12\n",
    "\n",
    "g = nx.hexagonal_lattice_graph(m=m, n=n, periodic=False, with_positions=True, create_using=None)"
   ]
  },
  {
   "cell_type": "code",
   "execution_count": null,
   "metadata": {},
   "outputs": [],
   "source": [
    "positions = [\n",
    "    [\n",
    "        (1, 2),\n",
    "        (2, 2),\n",
    "        (3, 2),\n",
    "        (4, 2),\n",
    "        (5, 2),\n",
    "        (6, 2),\n",
    "        (7, 2),\n",
    "        (6, 3),\n",
    "        (5, 3),\n",
    "        (4, 3),\n",
    "        (3, 3),\n",
    "        (2, 3),\n",
    "        (1, 3),\n",
    "        (2, 4),\n",
    "        (3, 4),\n",
    "        (4, 4),\n",
    "        (5, 4),\n",
    "        (6, 4),\n",
    "        (6, 5),\n",
    "        (5, 5),\n",
    "        (4, 5),\n",
    "        (3, 5),\n",
    "        (2, 5),\n",
    "        (2, 6),\n",
    "        (3, 6),\n",
    "        (4, 6),\n",
    "        (5, 6),\n",
    "        (5, 7),\n",
    "        (4, 7),\n",
    "        (3, 7),\n",
    "        (3, 8),\n",
    "        (4, 8),\n",
    "        (5, 8),\n",
    "        (4, 9),\n",
    "        (3, 9),\n",
    "        (4, 10),\n",
    "        (4, 11),\n",
    "    ],\n",
    "    [\n",
    "        (8, 3),\n",
    "        (8, 4),\n",
    "        (8, 5),\n",
    "        (7, 5),\n",
    "        (7, 6),\n",
    "        (8, 6),\n",
    "        (9, 6),\n",
    "        (9, 7),\n",
    "        (8, 7),\n",
    "        (7, 7),\n",
    "        (6, 8),\n",
    "        (7, 8),\n",
    "        (8, 8),\n",
    "        (9, 8),\n",
    "        (10, 9),\n",
    "        (9, 9),\n",
    "        (8, 9),\n",
    "        (7, 9),\n",
    "        (6, 9),\n",
    "        (6, 10),\n",
    "        (7, 10),\n",
    "        (8, 10),\n",
    "        (9, 10),\n",
    "        (10, 10),\n",
    "        (10, 11),\n",
    "        (9, 11),\n",
    "        (8, 11),\n",
    "        (7, 11),\n",
    "        (6, 11),\n",
    "        (5, 11),\n",
    "        (5, 12),\n",
    "        (6, 12),\n",
    "        (7, 12),\n",
    "        (8, 12),\n",
    "        (9, 12),\n",
    "        (10, 12),\n",
    "        (11, 12),\n",
    "    ],\n",
    "    [\n",
    "        (5, 14),\n",
    "        (6, 14),\n",
    "        (7, 14),\n",
    "        (8, 14),\n",
    "        (9, 14),\n",
    "        (10, 14),\n",
    "        (11, 14),\n",
    "        (10, 15),\n",
    "        (9, 15),\n",
    "        (8, 15),\n",
    "        (7, 15),\n",
    "        (6, 15),\n",
    "        (5, 15),\n",
    "        (6, 16),\n",
    "        (7, 16),\n",
    "        (8, 16),\n",
    "        (9, 16),\n",
    "        (10, 16),\n",
    "        (10, 17),\n",
    "        (9, 17),\n",
    "        (8, 17),\n",
    "        (7, 17),\n",
    "        (6, 17),\n",
    "        (6, 18),\n",
    "        (7, 18),\n",
    "        (8, 18),\n",
    "        (9, 18),\n",
    "        (9, 19),\n",
    "        (8, 19),\n",
    "        (7, 19),\n",
    "        (7, 20),\n",
    "        (8, 20),\n",
    "        (9, 20),\n",
    "        (8, 21),\n",
    "        (7, 21),\n",
    "        (8, 22),\n",
    "        (8, 23),\n",
    "    ],\n",
    "]"
   ]
  },
  {
   "cell_type": "code",
   "execution_count": null,
   "metadata": {},
   "outputs": [],
   "source": [
    "d = 7\n",
    "snake = co.SnakeBuilderSTDW(g, positions, d)"
   ]
  },
  {
   "cell_type": "code",
   "execution_count": null,
   "metadata": {},
   "outputs": [],
   "source": [
    "z_plaquettes, x_plaquettes = snake.find_stabilizers()\n",
    "snake.q_tilde - (len(z_plaquettes) + len(x_plaquettes)) == 1"
   ]
  },
  {
   "cell_type": "code",
   "execution_count": null,
   "metadata": {},
   "outputs": [],
   "source": [
    "snake.plot_stabilizers(x_plaquettes)\n",
    "snake.plot_stabilizers(z_plaquettes)"
   ]
  },
  {
   "cell_type": "code",
   "execution_count": null,
   "metadata": {},
   "outputs": [],
   "source": [
    "hz = snake.gen_check_matrix(z_plaquettes)\n",
    "hx = snake.gen_check_matrix(x_plaquettes)"
   ]
  },
  {
   "cell_type": "code",
   "execution_count": null,
   "metadata": {},
   "outputs": [],
   "source": [
    "# consider the boundary patches to be logical and find the subset of stabilizers to measure the logical ZZ between them\n",
    "subset_stabs = snake.find_stabilizers_zz()\n",
    "assert snake.test_zz_stabs(subset_stabs) is True\n",
    "\n",
    "snake.plot_stabilizers(subset_stabs)"
   ]
  },
  {
   "cell_type": "markdown",
   "metadata": {},
   "source": [
    "### Surface Code snakes between folded surface codes\n",
    "\n",
    "One can choose any convex planar boundary on the graph to generate a surface code patch. This construction is therefore not fully general, also since folded surface codes as boundary patches can only be considered in their unfolded form.\n",
    "\n",
    "for surface codes, the construction of stabilizers to multiply for the logical ZZ outcome is far more straightforward (measure all the stabilizers of specific type). Thus, no construction is provided as for the color code above."
   ]
  },
  {
   "cell_type": "code",
   "execution_count": null,
   "metadata": {},
   "outputs": [],
   "source": [
    "# helper fct\n",
    "\n",
    "# function to translate above stabilizers into strings to use them for stim\n",
    "def translate_intstabs_to_str(plaquettes: list[list[int]], q: int, stab_type: str) -> list[str]:\n",
    "    \"\"\"translates plaquettes into list of strings to use with stim.\n",
    "\n",
    "    Args:\n",
    "        plaquettes (list[list[int]]): _description_\n",
    "        q (int): _description_\n",
    "        stab_type (str) _description_\n",
    "\n",
    "    Returns:\n",
    "        list[str]: _description_\n",
    "    \"\"\"\n",
    "    stabs_str = []\n",
    "    for plaquette in plaquettes:\n",
    "        temp = \"_\" * q\n",
    "        for el in plaquette:\n",
    "            temp = temp[:el] + stab_type + temp[el + 1 :]\n",
    "        stabs_str.append(temp)\n",
    "    return stabs_str\n",
    "\n",
    "\n",
    "def logicals(snake, d, hx, hz):\n",
    "    code = CSSCode(distance=d, Hx=hx, Hz=hz)\n",
    "\n",
    "    assert len(code.Lx) == 1 and len(code.Lz) == 1, \"More than one qubit encoded!\"\n",
    "\n",
    "    # translate Lz into list of edges on the graph\n",
    "    trans_dict_rev = {value: key for key, value in snake.trans_dict.items()}\n",
    "    opz = []\n",
    "    for i, el in enumerate(code.Lz[0]):\n",
    "        if el == 1:\n",
    "            opz.append(trans_dict_rev[i])\n",
    "    opx = []\n",
    "    for i, el in enumerate(code.Lx[0]):\n",
    "        if el == 1:\n",
    "            opx.append(trans_dict_rev[i])\n",
    "    return opx, opz\n",
    "\n",
    "\n",
    "def encoding_circuit(snake: co.SnakeBuilderSC, opx, opz):\n",
    "    \"\"\"checks whether an encoding circuit of a state defined by tableau can be built. just as sanity check.\"\"\"\n",
    "\n",
    "    stars_int = [[snake.trans_dict[el] for el in op] for op in snake.stars]\n",
    "\n",
    "    plaquettes_int = [[snake.trans_dict[el] for el in op] for op in snake.plaquettes]\n",
    "\n",
    "    q = len(snake.qubit_edges)\n",
    "    stabs_str_z = translate_intstabs_to_str(plaquettes_int, q, \"Z\")\n",
    "    stabs_str_z = [stim.PauliString(el) for el in stabs_str_z]\n",
    "    stabs_str_x = translate_intstabs_to_str(stars_int, q, \"X\")\n",
    "    stabs_str_x = [stim.PauliString(el) for el in stabs_str_x]\n",
    "    # initialize + state, i.e. add logical X\n",
    "\n",
    "    # ADD Z OPERATOR, i.e. initialize |0>\n",
    "    op = opz\n",
    "    op = [snake.trans_dict[el] for el in op]\n",
    "\n",
    "    temp = \"_\" * q\n",
    "    for el in op:\n",
    "        temp = temp[:el] + \"Z\" + temp[el + 1 :]\n",
    "\n",
    "    stabilizers = stabs_str_z + stabs_str_x + [stim.PauliString(temp)]\n",
    "    tableau = stim.Tableau.from_stabilizers(stabilizers)\n",
    "    circuit_0 = tableau.to_circuit(\"elimination\")\n",
    "\n",
    "    # ADD X OPERATOR i.e. initialize |+>\n",
    "    op = opx\n",
    "    op = [snake.trans_dict[el] for el in op]\n",
    "\n",
    "    temp = \"_\" * q\n",
    "    for el in op:\n",
    "        temp = temp[:el] + \"X\" + temp[el + 1 :]\n",
    "\n",
    "    stabilizers = stabs_str_z + stabs_str_x + [stim.PauliString(temp)]\n",
    "    tableau = stim.Tableau.from_stabilizers(stabilizers)\n",
    "    circuit_p = tableau.to_circuit(\"elimination\")\n",
    "\n",
    "    return circuit_p, circuit_0\n",
    "\n",
    "\n",
    "def check_matchable(h) -> None:\n",
    "    \"\"\"checks whether max 2 nonzero entries per col\"\"\"\n",
    "    _num_rows, num_cols = np.shape(h)\n",
    "    for i in range(num_cols):\n",
    "        col = h[:, i]\n",
    "        num_nonzero = np.sum(col)\n",
    "        # print(num_nonzero)\n",
    "        if num_nonzero > 2:\n",
    "            break"
   ]
  },
  {
   "cell_type": "markdown",
   "metadata": {},
   "source": [
    "#### Example with $d=5$"
   ]
  },
  {
   "cell_type": "code",
   "execution_count": null,
   "metadata": {},
   "outputs": [],
   "source": [
    "m, n = 20, 20\n",
    "G = nx.grid_2d_graph(m, n)\n",
    "\n",
    "# Define the position with the origin at the lower left\n",
    "pos = {(x, y): (x, y) for x, y in G.nodes()}  # Keep y as positive"
   ]
  },
  {
   "cell_type": "code",
   "execution_count": null,
   "metadata": {},
   "outputs": [],
   "source": [
    "d = 5\n",
    "\n",
    "positions_smooth = [\n",
    "    [(0, 0), (1, 0), (2, 0), (3, 0), (4, 0), (5, 0)],\n",
    "    [(5, 13), (6, 13), (7, 13), (8, 13), (9, 13), (10, 13)],\n",
    "]\n",
    "positions_rough = [\n",
    "    [\n",
    "        (0, 0),\n",
    "        (0, 1),\n",
    "        (0, 2),\n",
    "        (0, 3),\n",
    "        (0, 4),\n",
    "        (1, 5),\n",
    "        (2, 6),\n",
    "        (3, 7),\n",
    "        (4, 8),\n",
    "        (5, 9),\n",
    "        (5, 10),\n",
    "        (5, 11),\n",
    "        (5, 12),\n",
    "        (5, 13),\n",
    "    ],\n",
    "    [\n",
    "        (5, 0),\n",
    "        (5, 1),\n",
    "        (5, 2),\n",
    "        (5, 3),\n",
    "        (5, 4),\n",
    "        (6, 5),\n",
    "        (7, 6),\n",
    "        (8, 7),\n",
    "        (9, 8),\n",
    "        (10, 9),\n",
    "        (10, 10),\n",
    "        (10, 11),\n",
    "        (10, 12),\n",
    "        (10, 13),\n",
    "    ],\n",
    "]"
   ]
  },
  {
   "cell_type": "code",
   "execution_count": null,
   "metadata": {},
   "outputs": [],
   "source": [
    "snake = co.SnakeBuilderSC(G, positions_rough, positions_smooth, d)"
   ]
  },
  {
   "cell_type": "code",
   "execution_count": null,
   "metadata": {},
   "outputs": [],
   "source": [
    "_, _ = snake.create_stabs()"
   ]
  },
  {
   "cell_type": "code",
   "execution_count": null,
   "metadata": {},
   "outputs": [],
   "source": [
    "hx, hz, trans_dict = snake.gen_checks()"
   ]
  },
  {
   "cell_type": "code",
   "execution_count": null,
   "metadata": {},
   "outputs": [],
   "source": [
    "# generate logical ops\n",
    "\n",
    "opx, opz = logicals(snake, d, hx, hz)"
   ]
  },
  {
   "cell_type": "code",
   "execution_count": null,
   "metadata": {},
   "outputs": [],
   "source": [
    "snake.plot_stabs(opz, opx)"
   ]
  },
  {
   "cell_type": "code",
   "execution_count": null,
   "metadata": {},
   "outputs": [],
   "source": [
    "circuit_p, circuit_0 = encoding_circuit(snake, opx, opz)"
   ]
  },
  {
   "cell_type": "code",
   "execution_count": null,
   "metadata": {},
   "outputs": [],
   "source": [
    "check_matchable(hx)\n",
    "check_matchable(hz)"
   ]
  },
  {
   "cell_type": "markdown",
   "metadata": {},
   "source": [
    "#### Example for $d=7$"
   ]
  },
  {
   "cell_type": "code",
   "execution_count": null,
   "metadata": {},
   "outputs": [],
   "source": [
    "m, n = 30, 30\n",
    "G = nx.grid_2d_graph(m, n)\n",
    "# Define the position with the origin at the lower left\n",
    "pos = {(x, y): (x, y) for x, y in G.nodes()}  # Keep y as positive"
   ]
  },
  {
   "cell_type": "code",
   "execution_count": null,
   "metadata": {},
   "outputs": [],
   "source": [
    "d = 7\n",
    "positions_smooth = [\n",
    "    [(0, 1), (1, 1), (2, 1), (3, 1), (4, 1), (5, 1), (6, 1), (7, 1)],\n",
    "    [(7, 20), (8, 20), (9, 20), (10, 20), (11, 20), (12, 20), (13, 20), (14, 20)],\n",
    "]\n",
    "positions_rough = [\n",
    "    [\n",
    "        (7, 1),\n",
    "        (7, 2),\n",
    "        (7, 3),\n",
    "        (7, 4),\n",
    "        (7, 5),\n",
    "        (7, 6),\n",
    "        (7, 7),\n",
    "        (8, 8),\n",
    "        (9, 9),\n",
    "        (10, 10),\n",
    "        (11, 11),\n",
    "        (12, 12),\n",
    "        (13, 13),\n",
    "        (14, 14),\n",
    "        (14, 15),\n",
    "        (14, 16),\n",
    "        (14, 17),\n",
    "        (14, 18),\n",
    "        (14, 19),\n",
    "        (14, 20),\n",
    "    ],\n",
    "    [\n",
    "        (7, 20),\n",
    "        (7, 19),\n",
    "        (7, 18),\n",
    "        (7, 17),\n",
    "        (7, 16),\n",
    "        (7, 15),\n",
    "        (7, 14),\n",
    "        (6, 13),\n",
    "        (5, 12),\n",
    "        (4, 11),\n",
    "        (3, 10),\n",
    "        (2, 9),\n",
    "        (1, 8),\n",
    "        (0, 7),\n",
    "        (0, 6),\n",
    "        (0, 5),\n",
    "        (0, 4),\n",
    "        (0, 3),\n",
    "        (0, 2),\n",
    "        (0, 1),\n",
    "    ],\n",
    "]"
   ]
  },
  {
   "cell_type": "code",
   "execution_count": null,
   "metadata": {},
   "outputs": [],
   "source": [
    "snake = co.SnakeBuilderSC(G, positions_rough, positions_smooth, d)"
   ]
  },
  {
   "cell_type": "code",
   "execution_count": null,
   "metadata": {},
   "outputs": [],
   "source": [
    "_, _ = snake.create_stabs()"
   ]
  },
  {
   "cell_type": "code",
   "execution_count": null,
   "metadata": {},
   "outputs": [],
   "source": [
    "hx, hz, trans_dict = snake.gen_checks()"
   ]
  },
  {
   "cell_type": "code",
   "execution_count": null,
   "metadata": {},
   "outputs": [],
   "source": [
    "# generate logical ops\n",
    "\n",
    "opx, opz = logicals(snake, d, hx, hz)"
   ]
  },
  {
   "cell_type": "code",
   "execution_count": null,
   "metadata": {},
   "outputs": [],
   "source": [
    "size = (11, 11)\n",
    "snake.plot_stabs(opz, opx, size=size)"
   ]
  },
  {
   "cell_type": "code",
   "execution_count": null,
   "metadata": {},
   "outputs": [],
   "source": [
    "circuit_p, circuit_0 = encoding_circuit(snake, opx, opz)"
   ]
  },
  {
   "cell_type": "code",
   "execution_count": null,
   "metadata": {},
   "outputs": [],
   "source": [
    "check_matchable(hx)\n",
    "check_matchable(hz)"
   ]
  }
 ],
 "metadata": {
  "kernelspec": {
   "display_name": "routing_venv",
   "language": "python",
   "name": "python3"
  },
  "language_info": {
   "codemirror_mode": {
    "name": "ipython",
    "version": 3
   },
   "file_extension": ".py",
   "mimetype": "text/x-python",
   "name": "python",
   "nbconvert_exporter": "python",
   "pygments_lexer": "ipython3"
  }
 },
 "nbformat": 4,
 "nbformat_minor": 2
}
