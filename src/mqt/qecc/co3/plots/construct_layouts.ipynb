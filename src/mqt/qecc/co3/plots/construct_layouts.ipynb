{
 "cells": [
  {
   "cell_type": "code",
   "execution_count": null,
   "metadata": {},
   "outputs": [],
   "source": [
    "import mqt.qecc.co3 as co"
   ]
  },
  {
   "cell_type": "markdown",
   "metadata": {},
   "source": [
    "##  Hexagonal Layout $q=24$\n",
    "\n",
    "and some random factories"
   ]
  },
  {
   "cell_type": "code",
   "execution_count": null,
   "metadata": {},
   "outputs": [],
   "source": [
    "factories = [\n",
    "    (0, 3),\n",
    "    (1, 8),\n",
    "    (2, 13),\n",
    "    (7, 3),\n",
    "    (8, 8),\n",
    "    (9, 13),\n",
    "    (4, 2),\n",
    "    (5, 14),\n",
    "]  # [(0,3), (1,8), (2,13), (7,3), (8,8), (9,13), (4,2), (5,14)]#[(0,2), (1,8), (5,1)]\n",
    "g, data_qubit_locs, factory_ring = co.plots.gen_layout(\"hex\", 24, factories)\n",
    "lat = co.HexagonalLattice(3, 3)\n",
    "lat.G = g\n",
    "size = (6, 6)\n",
    "lat.plot_lattice(\n",
    "    size=size, data_qubit_locs=data_qubit_locs, factory_locs=factories\n",
    ")  # , data_qubit_locs=data_qubit_locs)"
   ]
  },
  {
   "cell_type": "markdown",
   "metadata": {},
   "source": [
    "##  Hexagonal Layout $q=42$\n",
    "\n",
    "and some random factories"
   ]
  },
  {
   "cell_type": "code",
   "execution_count": null,
   "metadata": {},
   "outputs": [],
   "source": [
    "factories = [\n",
    "    (0, 3),\n",
    "    (1, 8),\n",
    "    (2, 13),\n",
    "    (12, 12),\n",
    "    (3, 18),\n",
    "    (11, 9),\n",
    "    (10, 4),\n",
    "    (7, 3),\n",
    "    (6, 18),\n",
    "    (8, 15),\n",
    "    (11, 15),\n",
    "    (2, 1),\n",
    "    (5, 2),\n",
    "]  # [(0,3), (0,7), (11,7), (12,10)]\n",
    "g, data_qubit_locs, factory_ring = co.plots.gen_layout(\"hex\", 42, factories)\n",
    "lat = co.HexagonalLattice(3, 3)\n",
    "lat.G = g\n",
    "size = (6, 6)\n",
    "lat.plot_lattice(\n",
    "    size=size, data_qubit_locs=data_qubit_locs, factory_locs=factories\n",
    ")  # , data_qubit_locs=data_qubit_locs)"
   ]
  },
  {
   "cell_type": "markdown",
   "metadata": {},
   "source": [
    "##  Hexagonal Layout $q=60$\n",
    "\n",
    "and some random factories"
   ]
  },
  {
   "cell_type": "code",
   "execution_count": null,
   "metadata": {},
   "outputs": [],
   "source": [
    "factories = [(0, 3), (1, 8), (2, 13), (12, 12), (3, 18), (11, 9), (10, 4), (13, 17)]  # [(0,3), (0,7), (11,7), (12,10)]\n",
    "g, data_qubit_locs, factory_ring = co.plots.gen_layout(\"hex\", 60, factories)\n",
    "lat = co.HexagonalLattice(3, 3)\n",
    "lat.G = g\n",
    "size = (6, 6)\n",
    "lat.plot_lattice(\n",
    "    size=size, data_qubit_locs=data_qubit_locs, factory_locs=factories\n",
    ")  # , data_qubit_locs=data_qubit_locs)"
   ]
  },
  {
   "cell_type": "markdown",
   "metadata": {},
   "source": [
    "##  Row Layout $q=24$\n",
    "\n",
    "and some random factories"
   ]
  },
  {
   "cell_type": "code",
   "execution_count": null,
   "metadata": {},
   "outputs": [],
   "source": [
    "factories = [(0, 3), (0, 9), (0, 15), (6, 6), (6, 12), (6, 18), (5, 3), (2, 2)]\n",
    "g, data_qubit_locs, factory_ring = co.plots.gen_layout(\"row\", 24, factories)\n",
    "lat = co.HexagonalLattice(3, 3)\n",
    "\n",
    "# leave only one node per factory for the fsc substrate -> OPTIONAL\n",
    "g = co.plots.remove_edge_per_factory(g, factories)\n",
    "\n",
    "lat.G = g\n",
    "size = (6, 6)\n",
    "\n",
    "lat.plot_lattice(\n",
    "    size=size, data_qubit_locs=data_qubit_locs, factory_locs=factories\n",
    ")  # , data_qubit_locs=data_qubit_locs)"
   ]
  },
  {
   "cell_type": "markdown",
   "metadata": {},
   "source": [
    "##  Row Layout $q=42$\n",
    "\n",
    "and some random factories"
   ]
  },
  {
   "cell_type": "code",
   "execution_count": null,
   "metadata": {},
   "outputs": [],
   "source": [
    "factories = [\n",
    "    (0, 3),\n",
    "    (0, 9),\n",
    "    (0, 15),\n",
    "    (6, 6),\n",
    "    (6, 12),\n",
    "    (6, 18),\n",
    "    (5, 3),\n",
    "    (2, 2),\n",
    "    (0, 21),\n",
    "    (0, 27),\n",
    "    (6, 24),\n",
    "    (6, 30),\n",
    "    (1, 33),\n",
    "]  # [(0,2), (0,11), (0,15), (4,1), (6,10), (6,30)]\n",
    "g, data_qubit_locs, factory_ring = co.plots.gen_layout(\"row\", 42, factories)\n",
    "lat = co.HexagonalLattice(3, 3)\n",
    "\n",
    "# leave only one node per factory for the fsc substrate -> OPTIONAL\n",
    "g = co.plots.remove_edge_per_factory(g, factories)\n",
    "\n",
    "lat.G = g\n",
    "size = (6, 6)\n",
    "lat.plot_lattice(\n",
    "    size=size, data_qubit_locs=data_qubit_locs, factory_locs=factories\n",
    ")  # , data_qubit_locs=data_qubit_locs)"
   ]
  },
  {
   "cell_type": "markdown",
   "metadata": {},
   "source": [
    "##  Row Layout $q=60$\n",
    "\n",
    "and some random factories"
   ]
  },
  {
   "cell_type": "code",
   "execution_count": null,
   "metadata": {},
   "outputs": [],
   "source": [
    "factories = [(0, 2), (0, 11), (0, 15), (4, 1), (6, 10), (6, 30), (1, 45), (4, 46)]\n",
    "g, data_qubit_locs, factory_ring = co.plots.gen_layout(\"row\", 60, factories)\n",
    "lat = co.HexagonalLattice(3, 3)\n",
    "\n",
    "# leave only one node per factory for the fsc substrate -> OPTIONAL\n",
    "g = co.plots.remove_edge_per_factory(g, factories)\n",
    "\n",
    "lat.G = g\n",
    "size = (6, 10)\n",
    "lat.plot_lattice(\n",
    "    size=size, data_qubit_locs=data_qubit_locs, factory_locs=factories\n",
    ")  # , data_qubit_locs=data_qubit_locs)"
   ]
  },
  {
   "cell_type": "markdown",
   "metadata": {},
   "source": [
    "##  Pair Layout $q=24$\n",
    "\n",
    "and some random factories"
   ]
  },
  {
   "cell_type": "code",
   "execution_count": null,
   "metadata": {},
   "outputs": [],
   "source": [
    "factories = [\n",
    "    (0, 5),\n",
    "    (0, 11),\n",
    "    (0, 17),\n",
    "    (7, 3),\n",
    "    (8, 8),\n",
    "    (8, 14),\n",
    "    (8, 20),\n",
    "    (2, 2),\n",
    "]  # [(0,5), (0,9), (2,22), (8,18), (8,14)]\n",
    "g, data_qubit_locs, factory_ring = co.plots.gen_layout(\"pair\", 24, factories)\n",
    "lat = co.HexagonalLattice(3, 3)\n",
    "\n",
    "# leave only one node per factory for the fsc substrate -> OPTIONAL\n",
    "g = co.plots.remove_edge_per_factory(g, factories)\n",
    "\n",
    "lat.G = g\n",
    "size = (6, 10)\n",
    "lat.plot_lattice(\n",
    "    size=size, data_qubit_locs=data_qubit_locs, factory_locs=factories\n",
    ")  # , data_qubit_locs=data_qubit_locs)"
   ]
  },
  {
   "cell_type": "markdown",
   "metadata": {},
   "source": [
    "##  Pair Layout $q=42$\n",
    "\n",
    "and some random factories"
   ]
  },
  {
   "cell_type": "code",
   "execution_count": null,
   "metadata": {},
   "outputs": [],
   "source": [
    "factories = [(0, 5), (0, 9), (3, 33), (8, 18), (8, 14)]\n",
    "g, data_qubit_locs, factory_ring = co.plots.gen_layout(\"pair\", 42, factories)\n",
    "lat = co.HexagonalLattice(3, 3)\n",
    "\n",
    "# leave only one node per factory for the fsc substrate -> OPTIONAL\n",
    "g = co.plots.remove_edge_per_factory(g, factories)\n",
    "\n",
    "lat.G = g\n",
    "size = (6, 10)\n",
    "lat.plot_lattice(\n",
    "    size=size, data_qubit_locs=data_qubit_locs, factory_locs=factories\n",
    ")  # , data_qubit_locs=data_qubit_locs)"
   ]
  },
  {
   "cell_type": "markdown",
   "metadata": {},
   "source": [
    "##  Pair Layout $q=60$\n",
    "\n",
    "and some random factories"
   ]
  },
  {
   "cell_type": "code",
   "execution_count": null,
   "metadata": {},
   "outputs": [],
   "source": [
    "factories = [(0, 7), (0, 27), (8, 8), (8, 26), (4, 1), (5, 46)]\n",
    "g, data_qubit_locs, factory_ring = co.plots.gen_layout(\"pair\", 60, factories)\n",
    "lat = co.HexagonalLattice(3, 3)\n",
    "\n",
    "# leave only one node per factory for the fsc substrate -> OPTIONAL\n",
    "g = co.plots.remove_edge_per_factory(g, factories)\n",
    "\n",
    "lat.G = g\n",
    "size = (6, 10)\n",
    "lat.plot_lattice(\n",
    "    size=size, data_qubit_locs=data_qubit_locs, factory_locs=factories\n",
    ")  # , data_qubit_locs=data_qubit_locs)"
   ]
  },
  {
   "cell_type": "markdown",
   "metadata": {},
   "source": [
    "##  Sparse Layout $q=24$\n",
    "\n",
    "and some random factories"
   ]
  },
  {
   "cell_type": "code",
   "execution_count": null,
   "metadata": {},
   "outputs": [],
   "source": [
    "factories = [(0, 5), (0, 15), (0, 21), (5, 30), (8, 29), (9, 21), (8, 11), (6, 1)]\n",
    "g, data_qubit_locs, factory_ring = co.plots.gen_layout(\"sparse\", 24, factories)\n",
    "lat = co.HexagonalLattice(3, 3)\n",
    "lat.G = g\n",
    "size = (6, 10)\n",
    "lat.plot_lattice(\n",
    "    size=size, data_qubit_locs=data_qubit_locs, factory_locs=factories\n",
    ")  # , data_qubit_locs=data_qubit_locs)"
   ]
  },
  {
   "cell_type": "markdown",
   "metadata": {},
   "source": [
    "##  Sparse Layout $q=42$\n",
    "\n",
    "and some random factories"
   ]
  },
  {
   "cell_type": "code",
   "execution_count": null,
   "metadata": {},
   "outputs": [],
   "source": [
    "# generate standard row lattice\n",
    "m = 15\n",
    "n = 9\n",
    "lat = co.HexagonalLattice(m, n)\n",
    "\n",
    "data_qubit_locs = lat.gen_layout_sparse()\n",
    "\n",
    "factory_locs = []\n",
    "\n",
    "size = (12, 12)\n",
    "# lat.plot_lattice(size = size, data_qubit_locs=data_qubit_locs, factory_locs=factory_locs)\n",
    "\n",
    "\n",
    "# random qubit label assignment"
   ]
  },
  {
   "cell_type": "code",
   "execution_count": null,
   "metadata": {},
   "outputs": [],
   "source": [
    "data_qubit_locs = [\n",
    "    (2, 5),\n",
    "    (4, 5),\n",
    "    (6, 5),\n",
    "    (3, 8),\n",
    "    (5, 8),\n",
    "    (7, 8),\n",
    "    (2, 11),\n",
    "    (4, 11),\n",
    "    (6, 11),\n",
    "    (3, 14),\n",
    "    (5, 14),\n",
    "    (7, 14),\n",
    "    (2, 17),\n",
    "    (4, 17),\n",
    "    (6, 17),\n",
    "    (3, 20),\n",
    "    (5, 20),\n",
    "    (7, 20),\n",
    "    (2, 23),\n",
    "    (4, 23),\n",
    "    (6, 23),\n",
    "    (3, 26),\n",
    "    (5, 26),\n",
    "    (7, 26),\n",
    "]\n",
    "\n",
    "factory_ring = [(0, x) for x in range(2, 27)] + [\n",
    "    (1, 2),\n",
    "    (1, 1),\n",
    "    (2, 1),\n",
    "    (2, 2),\n",
    "    (3, 2),\n",
    "    (3, 1),\n",
    "    (3, 1),\n",
    "    (4, 1),\n",
    "    (4, 2),\n",
    "    (5, 2),\n",
    "    (5, 1),\n",
    "    (6, 1),\n",
    "    (6, 2),\n",
    "    (7, 2),\n",
    "    (7, 3),\n",
    "    (7, 2),\n",
    "    (7, 3),\n",
    "    (8, 3),\n",
    "    (8, 4),\n",
    "    (8, 5),\n",
    "    (8, 6),\n",
    "    (9, 6),\n",
    "    (9, 7),\n",
    "    (9, 8),\n",
    "    (9, 9),\n",
    "    (9, 10),\n",
    "    (8, 10),\n",
    "    (8, 11),\n",
    "    (8, 12),\n",
    "    (9, 12),\n",
    "    (9, 13),\n",
    "    (9, 14),\n",
    "    (9, 15),\n",
    "    (9, 16),\n",
    "    (8, 16),\n",
    "    (8, 17),\n",
    "    (8, 18),\n",
    "    (9, 18),\n",
    "    (9, 19),\n",
    "    (9, 20),\n",
    "    (9, 21),\n",
    "    (9, 22),\n",
    "    (8, 22),\n",
    "    (8, 23),\n",
    "    (8, 24),\n",
    "    (9, 24),\n",
    "    (9, 25),\n",
    "    (9, 26),\n",
    "    (9, 27),\n",
    "    (9, 28),\n",
    "    (8, 28),\n",
    "    (8, 29),\n",
    "    (7, 29),\n",
    "    (7, 30),\n",
    "    (6, 30),\n",
    "    (6, 29),\n",
    "    (5, 29),\n",
    "    (5, 30),\n",
    "    (4, 30),\n",
    "    (4, 29),\n",
    "    (3, 29),\n",
    "    (3, 30),\n",
    "    (2, 30),\n",
    "    (2, 29),\n",
    "    (1, 29),\n",
    "    (1, 28),\n",
    "    (1, 27),\n",
    "    (1, 26),\n",
    "]\n",
    "\n",
    "nodes_to_remove = [\n",
    "    (0, 27),\n",
    "    (0, 28),\n",
    "    (0, 29),\n",
    "    (0, 30),\n",
    "    (1, 30),\n",
    "    (1, 31),\n",
    "    (2, 31),\n",
    "    (3, 31),\n",
    "    (4, 31),\n",
    "    (5, 31),\n",
    "    (6, 31),\n",
    "    (7, 31),\n",
    "    (8, 31),\n",
    "    (8, 30),\n",
    "    (0, 1),\n",
    "    (0, 0),\n",
    "    (1, 0),\n",
    "    (2, 0),\n",
    "    (3, 0),\n",
    "    (4, 0),\n",
    "    (5, 0),\n",
    "    (6, 0),\n",
    "    (7, 0),\n",
    "    (7, 1),\n",
    "    (8, 1),\n",
    "    (8, 2),\n",
    "    (8, 0),\n",
    "    (9, 0),\n",
    "    (9, 1),\n",
    "    (9, 2),\n",
    "    (9, 3),\n",
    "    (9, 4),\n",
    "    (9, 5),\n",
    "    (9, 11),\n",
    "    (9, 17),\n",
    "    (9, 23),\n",
    "    (9, 29),\n",
    "    (9, 30),\n",
    "    (9, 31),\n",
    "]\n",
    "\n",
    "lat.G.remove_nodes_from(nodes_to_remove)\n",
    "size = (6, 10)\n",
    "\n",
    "# lat.plot_lattice(size = size, data_qubit_locs=data_qubit_locs, factory_locs=factory_ring)"
   ]
  }
 ],
 "metadata": {
  "kernelspec": {
   "display_name": "routing_venv",
   "language": "python",
   "name": "python3"
  },
  "language_info": {
   "codemirror_mode": {
    "name": "ipython",
    "version": 3
   },
   "file_extension": ".py",
   "mimetype": "text/x-python",
   "name": "python",
   "nbconvert_exporter": "python",
   "pygments_lexer": "ipython3"
  }
 },
 "nbformat": 4,
 "nbformat_minor": 2
}
