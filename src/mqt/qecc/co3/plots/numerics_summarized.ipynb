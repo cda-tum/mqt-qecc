{
 "cells": [
  {
   "cell_type": "code",
   "execution_count": null,
   "metadata": {},
   "outputs": [],
   "source": [
    "import matplotlib.pyplot as plt\n",
    "\n",
    "import mqt.qecc.co3 as co\n",
    "\n",
    "plt.rcParams[\"font.family\"] = \"Times New Roman\"\n",
    "plt.rcParams[\"mathtext.fontset\"] = \"stix\"\n",
    "\n",
    "import pickle\n",
    "from pathlib import Path"
   ]
  },
  {
   "cell_type": "markdown",
   "metadata": {},
   "source": [
    "### run with 50 reps q 24"
   ]
  },
  {
   "cell_type": "code",
   "execution_count": null,
   "metadata": {},
   "outputs": [],
   "source": [
    "path = \"./results/f_vs_time_q24_ratio08_small_row_250321_2_8_f_t_B\"\n",
    "\n",
    "with Path(path).open(\"rb\") as f:\n",
    "    res_lst = pickle.load(f)\n",
    "\n",
    "path = \"./results/f_vs_time_q24_ratio08_small_row_250321_2_8_f_t_B_metricrouting\"\n",
    "\n",
    "with Path(path).open(\"rb\") as f:\n",
    "    res_lst_routing = pickle.load(f)"
   ]
  },
  {
   "cell_type": "code",
   "execution_count": null,
   "metadata": {},
   "outputs": [],
   "source": [
    "hc_params = res_lst[0][\"hc_params\"]\n",
    "size = (3.9, 3.9)\n",
    "co.plots.plot_f_vs_t_subfigs(res_lst, res_lst_routing, 24, 0.8, \"row\", 96, \"CC\", hc_params, size=size)"
   ]
  },
  {
   "cell_type": "code",
   "execution_count": null,
   "metadata": {},
   "outputs": [],
   "source": [
    "path = \"./results/f_vs_time_q24_ratio08_small_row_250321_2_8_f_t\"\n",
    "\n",
    "with Path(path).open(\"rb\") as f:\n",
    "    res_lst = pickle.load(f)\n",
    "\n",
    "path = \"./results/f_vs_time_q24_ratio08_small_row_250321_2_8_f_t_metricrouting\"\n",
    "\n",
    "with Path(path).open(\"rb\") as f:\n",
    "    res_lst_routing = pickle.load(f)"
   ]
  },
  {
   "cell_type": "code",
   "execution_count": null,
   "metadata": {},
   "outputs": [],
   "source": [
    "hc_params = res_lst[0][\"hc_params\"]\n",
    "size = (3.9, 3.9)\n",
    "co.plots.plot_f_vs_t_subfigs(res_lst, res_lst_routing, 24, 0.8, \"row\", 96, \"CC\", hc_params, size=size)"
   ]
  },
  {
   "cell_type": "markdown",
   "metadata": {},
   "source": [
    "Circuit Types $q=24$"
   ]
  },
  {
   "cell_type": "code",
   "execution_count": null,
   "metadata": {},
   "outputs": [],
   "source": [
    "path = \"./results/circuit_types_q24_250321_b\"\n",
    "# q=42 and different depths\n",
    "with Path(path).open(\"rb\") as f:\n",
    "    res_lst = pickle.load(f)"
   ]
  },
  {
   "cell_type": "code",
   "execution_count": null,
   "metadata": {},
   "outputs": [],
   "source": [
    "size = (4.5, 2.5)\n",
    "co.plots.plot_improvement_circuit_types(res_lst, size=size)"
   ]
  },
  {
   "cell_type": "code",
   "execution_count": null,
   "metadata": {},
   "outputs": [],
   "source": [
    "path = \"./results/circuit_types_q24_250321\"\n",
    "# q=42 and different depths\n",
    "with Path(path).open(\"rb\") as f:\n",
    "    res_lst = pickle.load(f)"
   ]
  },
  {
   "cell_type": "code",
   "execution_count": null,
   "metadata": {},
   "outputs": [],
   "source": [
    "size = (3.5, 2.5)\n",
    "co.plots.plot_improvement_circuit_types(res_lst, size=size)"
   ]
  },
  {
   "cell_type": "code",
   "execution_count": null,
   "metadata": {},
   "outputs": [],
   "source": [
    "path = \"./results/circuit_types_q24_250321_c\"\n",
    "# q=42 and different depths\n",
    "with Path(path).open(\"rb\") as f:\n",
    "    res_lst = pickle.load(f)"
   ]
  },
  {
   "cell_type": "code",
   "execution_count": null,
   "metadata": {},
   "outputs": [],
   "source": [
    "size = (3.5, 2.5)\n",
    "co.plots.plot_improvement_circuit_types(res_lst, size=size)"
   ]
  }
 ],
 "metadata": {
  "kernelspec": {
   "display_name": "routing_venv",
   "language": "python",
   "name": "python3"
  },
  "language_info": {
   "codemirror_mode": {
    "name": "ipython",
    "version": 3
   },
   "file_extension": ".py",
   "mimetype": "text/x-python",
   "name": "python",
   "nbconvert_exporter": "python",
   "pygments_lexer": "ipython3"
  }
 },
 "nbformat": 4,
 "nbformat_minor": 2
}
