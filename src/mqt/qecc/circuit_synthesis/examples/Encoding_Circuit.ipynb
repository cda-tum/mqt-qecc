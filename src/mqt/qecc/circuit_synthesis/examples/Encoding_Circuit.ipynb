{
 "cells": [
  {
   "cell_type": "code",
   "execution_count": null,
   "id": "3d318f66-d757-4fb9-a0cd-71a6c9c33dd4",
   "metadata": {},
   "outputs": [],
   "source": [
    "import numpy as np\n",
    "\n",
    "from mqt.qecc import CSSCode\n",
    "from mqt.qecc.circuit_synthesis import gate_optimal_encoding_circuit, heuristic_encoding_circuit"
   ]
  },
  {
   "cell_type": "markdown",
   "id": "a5953bc9-95c7-4282-b1b3-ec51cf5cb94c",
   "metadata": {},
   "source": [
    "# Synthesizing Encoding Circuits using Greedy Heuristic"
   ]
  },
  {
   "cell_type": "code",
   "execution_count": null,
   "id": "3365e1a7-45cf-463e-bbd7-5cc368b079f3",
   "metadata": {},
   "outputs": [],
   "source": [
    "# 4, 2, 2 code\n",
    "css_4_2_2 = CSSCode(2, np.array([[1] * 4]), np.array([[1] * 4]))\n",
    "encoder_4_2_2, encoding_qubits = heuristic_encoding_circuit(css_4_2_2)\n",
    "\n",
    "encoder_4_2_2.draw(output=\"mpl\", scale=0.7)"
   ]
  },
  {
   "cell_type": "code",
   "execution_count": null,
   "id": "8e073e5b-9242-4de5-be6e-84cf43b4ad77",
   "metadata": {},
   "outputs": [],
   "source": [
    "# 6, 2, 2 code\n",
    "css_6_2_2 = CSSCode(\n",
    "    2, np.array([[1, 1, 1, 1, 0, 0], [1, 1, 0, 0, 1, 1]]), np.array([[1, 1, 1, 1, 0, 0], [1, 1, 0, 0, 1, 1]])\n",
    ")\n",
    "encoder_6_2_2, encoding_qubits = heuristic_encoding_circuit(css_6_2_2)\n",
    "\n",
    "encoder_6_2_2.draw(output=\"mpl\", scale=0.7)"
   ]
  },
  {
   "cell_type": "code",
   "execution_count": null,
   "id": "55e058d6-e6bb-4987-932c-d414f5a4ac83",
   "metadata": {},
   "outputs": [],
   "source": [
    "Hz_10_1_2 = np.zeros((6, 10), dtype=np.int8)\n",
    "Hx_10_1_2 = np.zeros((3, 10), dtype=np.int8)\n",
    "\n",
    "Hz_10_1_2[0][[0, 1, 2, 3]] = 1\n",
    "Hz_10_1_2[1][[2, 3, 5, 6]] = 1\n",
    "Hz_10_1_2[2][[1, 2, 4, 5]] = 1\n",
    "Hz_10_1_2[3][[2, 5, 7]] = 1\n",
    "Hz_10_1_2[4][[1, 2, 9]] = 1\n",
    "Hz_10_1_2[5][[2, 3, 8]] = 1\n",
    "\n",
    "Hx_10_1_2[0][[0, 1, 2, 3, 7]] = 1\n",
    "Hx_10_1_2[1][[2, 3, 5, 6, 9]] = 1\n",
    "Hx_10_1_2[2][[1, 2, 4, 5, 8]] = 1\n",
    "\n",
    "css_10_1_2 = CSSCode(2, Hx_10_1_2, Hz_10_1_2)\n",
    "\n",
    "encoder_10_1_2, encoding_qubits = heuristic_encoding_circuit(css_10_1_2)\n",
    "\n",
    "encoder_10_1_2.draw(output=\"mpl\", scale=0.7)"
   ]
  },
  {
   "cell_type": "markdown",
   "id": "82d013ec-c28e-4c65-8bc2-91eac64be2fb",
   "metadata": {},
   "source": [
    "# Synthesizing Optimal Encoding Circuits "
   ]
  },
  {
   "cell_type": "code",
   "execution_count": null,
   "id": "e7c68ef1-7134-41cb-ab93-10c0ae614c3a",
   "metadata": {},
   "outputs": [],
   "source": [
    "encoder_4_2_2_opt, encoding_qubits = gate_optimal_encoding_circuit(css_4_2_2)\n",
    "\n",
    "encoder_4_2_2_opt.draw(output=\"mpl\", scale=0.7)"
   ]
  },
  {
   "cell_type": "code",
   "execution_count": null,
   "id": "d0edefbf-442c-4ee3-8467-3268a0969f18",
   "metadata": {},
   "outputs": [],
   "source": [
    "encoder_6_2_2_opt, encoding_qubits = gate_optimal_encoding_circuit(css_6_2_2)\n",
    "\n",
    "encoder_6_2_2_opt.draw(output=\"mpl\", scale=0.7)"
   ]
  },
  {
   "cell_type": "code",
   "execution_count": null,
   "id": "26f0cd04-08b1-45fb-9796-36038530f7fd",
   "metadata": {},
   "outputs": [],
   "source": [
    "# This will time out because no circuit with 12 CNOT gates exists.\n",
    "# Increase timeout if you need the proof\n",
    "result = gate_optimal_encoding_circuit(css_10_1_2, min_gates=5, max_gates=12, max_timeout=60)\n",
    "assert result is None"
   ]
  }
 ],
 "metadata": {
  "kernelspec": {
   "display_name": "python11",
   "language": "python",
   "name": "python11"
  },
  "language_info": {
   "codemirror_mode": {
    "name": "ipython",
    "version": 3
   },
   "file_extension": ".py",
   "mimetype": "text/x-python",
   "name": "python",
   "nbconvert_exporter": "python",
   "pygments_lexer": "ipython3"
  }
 },
 "nbformat": 4,
 "nbformat_minor": 5
}
