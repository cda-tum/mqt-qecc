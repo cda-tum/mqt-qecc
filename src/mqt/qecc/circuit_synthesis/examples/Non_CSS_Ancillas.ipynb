{
 "cells": [
  {
   "cell_type": "code",
   "execution_count": null,
   "id": "2677b854-20a2-48da-a3fb-e2f5de015279",
   "metadata": {},
   "outputs": [],
   "source": [
    "from qiskit import QuantumCircuit\n",
    "\n",
    "from mqt.qecc import CSSCode, StabilizerCode\n",
    "from mqt.qecc.circuit_synthesis import gate_optimal_verification_circuit, heuristic_prep_circuit"
   ]
  },
  {
   "cell_type": "markdown",
   "id": "aa4e1c0c-2e18-4c87-ba43-160c7fabb790",
   "metadata": {},
   "source": [
    "For a $[[n,k,d]]$ stabilizer code we can check for X- and Z-errors with transversal CNOTs using a single $2n$ ancilla state. Half the qubits are then used as the control in a transversal CNOT and the other half as the target of another transversal CNOT. To ensure that these applications of CNOTs don't disturb the logical state we have to make sure the stabilizers propagate correctly from the state to the ancilla and vice-versa. \n",
    "\n",
    "Let $S$ be the stabilizer generators of an $[[n, k, d]]$ stabilizer code and $H_S = (H_X \\mid H_Z) \\in \\mathbb{Z}_2^{(n-k)\\times 2n}$ be symplectic representation of $S$. Furthermore, let $S_X = \\{X^{\\otimes H_X[i, :]} \\mid 1 \\leq i \\leq (n-k)$ where $X^{\\otimes v}$ is the stabilizer that acts as a Pauli $X$ on qubit $j$ if $v[j] = 1$ and as identity otherwise. $S_Z$ is defined analogous.\n",
    "\n",
    "Then we define the $2n$-qubit state $\\ket{\\psi}$ as the state stabilized by $S_\\mathit{anc} = \\{s_X\\otimes (H^{\\otimes n} s_Z H^{\\otimes n}) \\mid s_X \\in S_X, s_Z \\in S_Z\\}$ and $2n-|S|$ $Z$-stabilizers that commute with all stabilizers in $S_\\mathit{anc}$. This is a maximal CSS code (a code without any logicals). We can synthesize such states using `qecc`.\n",
    "\n",
    "Let's synthesize this state for the five-qubit code:"
   ]
  },
  {
   "cell_type": "code",
   "execution_count": null,
   "id": "85257dd4-01f0-4be0-8755-acad68b9c109",
   "metadata": {},
   "outputs": [],
   "source": [
    "# Define the code:\n",
    "five_qubit_code = StabilizerCode([\"XZZXI\", \"IXZZX\", \"XIXZZ\", \"ZXIXZ\"])\n",
    "\n",
    "# Construct the maximal CSS code. No Z-stabilizers need to be given since they are uniquely determined.\n",
    "combined = CSSCode(3, Hx=five_qubit_code.symplectic_matrix)\n",
    "\n",
    "# Synthesize the state prep circuit.\n",
    "qc_prep = heuristic_prep_circuit(combined)\n",
    "\n",
    "qc_prep.circ.draw(output=\"mpl\", scale=0.5, initial_state=\"zero\")"
   ]
  },
  {
   "cell_type": "markdown",
   "id": "71544907-bde5-4ab7-9993-d395fb3f6f72",
   "metadata": {},
   "source": [
    "This ancilla state can be used for syndrome extraction using the following construction:"
   ]
  },
  {
   "cell_type": "code",
   "execution_count": null,
   "id": "66292149-46eb-4d83-a528-654a82e8766f",
   "metadata": {},
   "outputs": [],
   "source": [
    "qc = QuantumCircuit(5)\n",
    "\n",
    "qc = qc_prep.circ.tensor(qc)\n",
    "qc.barrier()\n",
    "qc.cx(range(5, 10), range(5))\n",
    "qc.barrier()\n",
    "qc.h(range(10, 15))\n",
    "qc.cx(range(5), range(10, 15))\n",
    "\n",
    "qc.draw(output=\"mpl\", scale=0.5, fold=False)"
   ]
  },
  {
   "cell_type": "markdown",
   "id": "c5387a79-56c4-4154-87d7-ea0d03a36129",
   "metadata": {},
   "source": [
    "One can verify that, by construction, the stabilizers propagate correctly. For example, the stabilizer $XXZIZ$ on the data qubits propagates to $XXIII|IIZIZ$ on the ancilla state, which is a stabilizer by construction of $S_\\mathit{anc}$. The other stabilizers of the ancilla state are all Z-type stabilizers, which do not propagate at all (the Hadamards on the last 5 qubits turn the Zs into X which commute through the target of the CNOTs).\n",
    "\n",
    "Before using such an ancilla state for syndrome extraction, one might want to verify that no errors have propageted through the CNOTs during preparation. `qecc` has functionality for this as well."
   ]
  },
  {
   "cell_type": "code",
   "execution_count": null,
   "id": "9736b7cb-f3ec-46ee-8db2-56c0c5496f99",
   "metadata": {},
   "outputs": [],
   "source": [
    "qc_prep_ver = gate_optimal_verification_circuit(qc_prep)\n",
    "\n",
    "qc_prep_ver.draw(output=\"mpl\", scale=0.5, fold=False)"
   ]
  }
 ],
 "metadata": {
  "kernelspec": {
   "display_name": "python11",
   "language": "python",
   "name": "python11"
  },
  "language_info": {
   "codemirror_mode": {
    "name": "ipython",
    "version": 3
   },
   "file_extension": ".py",
   "mimetype": "text/x-python",
   "name": "python",
   "nbconvert_exporter": "python",
   "pygments_lexer": "ipython3"
  }
 },
 "nbformat": 4,
 "nbformat_minor": 5
}
