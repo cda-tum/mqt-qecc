{
 "cells": [
  {
   "cell_type": "code",
   "execution_count": null,
   "id": "1ed0548d",
   "metadata": {},
   "outputs": [],
   "source": [
    "import numpy as np\n",
    "import stim\n",
    "from qiskit import QuantumCircuit\n",
    "\n",
    "from mqt.qecc.codes import construct_quasi_cyclic_code\n",
    "from mqt.qecc.se_synthesis import OptimalSyndromeExtractionEncoder"
   ]
  },
  {
   "cell_type": "code",
   "execution_count": null,
   "id": "80a2d7fc",
   "metadata": {},
   "outputs": [],
   "source": [
    "# Check matrices for the Steane Code\n",
    "steane_x_checks = np.array([[1, 1, 0, 0, 1, 1, 0], [1, 0, 1, 0, 1, 0, 1], [0, 0, 0, 1, 1, 1, 1]])\n",
    "steane_z_checks = steane_x_checks.copy()\n",
    "\n",
    "x_checks = np.array([\n",
    "    [0, 1, 0, 1, 0, 1, 0, 1],\n",
    "    [1, 0, 1, 0, 1, 0, 1, 0],\n",
    "    [0, 1, 0, 1, 0, 1, 0, 1],\n",
    "    [1, 0, 1, 0, 1, 0, 1, 0],\n",
    "])\n",
    "z_checks = data = np.array([\n",
    "    [0, 1, 0, 1, 0, 1, 0, 1],\n",
    "    [1, 0, 1, 0, 1, 0, 1, 0],\n",
    "    [0, 1, 0, 1, 0, 1, 0, 1],\n",
    "    [1, 0, 1, 0, 1, 0, 1, 0],\n",
    "])"
   ]
  },
  {
   "cell_type": "markdown",
   "id": "9fb3384f",
   "metadata": {},
   "source": [
    "# Decoding Circuit for the Steane Code"
   ]
  },
  {
   "cell_type": "code",
   "execution_count": null,
   "id": "4dd7a127",
   "metadata": {},
   "outputs": [],
   "source": [
    "encoder = OptimalSyndromeExtractionEncoder((x_checks, z_checks), 4)\n",
    "res = encoder.solve()\n",
    "encoder.get_circuit().draw(output=\"mpl\")"
   ]
  },
  {
   "cell_type": "markdown",
   "id": "b3ca64bf",
   "metadata": {},
   "source": [
    "# Decoder Circuits for Quasi-Cyclic Codes"
   ]
  },
  {
   "cell_type": "code",
   "execution_count": null,
   "id": "53a852c6",
   "metadata": {},
   "outputs": [],
   "source": [
    "# Near Depth-optimal circuit\n",
    "# This should be fast\n",
    "code = construct_quasi_cyclic_code(72)\n",
    "encoder = OptimalSyndromeExtractionEncoder(code, 8)\n",
    "\n",
    "res = encoder.solve()\n",
    "encoder.get_circuit().depth()"
   ]
  },
  {
   "cell_type": "code",
   "execution_count": null,
   "id": "12abae0f",
   "metadata": {},
   "outputs": [],
   "source": [
    "# ODepth-optimal Circuit\n",
    "# WARNING: This will take a while\n",
    "code = construct_quasi_cyclic_code(72)\n",
    "encoder = OptimalSyndromeExtractionEncoder(code, 7)\n",
    "\n",
    "res = encoder.solve()\n",
    "encoder.get_circuit().depth()"
   ]
  },
  {
   "cell_type": "code",
   "execution_count": null,
   "id": "be3cec97-fe0f-4486-8717-a8fd5a92feb8",
   "metadata": {},
   "outputs": [],
   "source": [
    "def to_stim(qiskit_circ: QuantumCircuit, initialized_qubits=\"all\", qubit_offset=0):\n",
    "    stim_circ = stim.Circuit()\n",
    "    if initialized_qubits is not None:\n",
    "        if initialized_qubits == \"all\":\n",
    "            initialized_qubits = list(range(qiskit_circ.num_qubits))\n",
    "        stim_circ.append(\"R\", initialized_qubits)\n",
    "\n",
    "    for instr in qiskit_circ:\n",
    "        gate = instr.operation.name\n",
    "        if gate == \"measure\":\n",
    "            gate = \"MR\"\n",
    "        if gate == \"barrier\":\n",
    "            continue\n",
    "        qubits = [qiskit_circ.find_bit(bit).index + qubit_offset for bit in instr.qubits]\n",
    "        stim_circ.append(gate, qubits)\n",
    "\n",
    "    return stim_circ"
   ]
  },
  {
   "cell_type": "code",
   "execution_count": null,
   "id": "68d6702f-166a-494c-a71b-e81063eb4479",
   "metadata": {},
   "outputs": [],
   "source": [
    "to_stim(encoder.get_circuit())"
   ]
  },
  {
   "cell_type": "code",
   "execution_count": null,
   "id": "880f83ca-0beb-4abe-97e8-e9a1acf2a43c",
   "metadata": {},
   "outputs": [],
   "source": [
    "[np.where(x)[0] for x in x_checks]"
   ]
  }
 ],
 "metadata": {
  "kernelspec": {
   "display_name": "python11",
   "language": "python",
   "name": "python11"
  },
  "language_info": {
   "codemirror_mode": {
    "name": "ipython",
    "version": 3
   },
   "file_extension": ".py",
   "mimetype": "text/x-python",
   "name": "python",
   "nbconvert_exporter": "python",
   "pygments_lexer": "ipython3"
  }
 },
 "nbformat": 4,
 "nbformat_minor": 5
}
