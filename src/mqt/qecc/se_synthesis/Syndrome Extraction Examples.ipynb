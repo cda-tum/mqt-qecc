{
 "cells": [
  {
   "cell_type": "code",
   "execution_count": null,
   "id": "1ed0548d",
   "metadata": {},
   "outputs": [],
   "source": [
    "import numpy as np\n",
    "\n",
    "from mqt.qecc.se_synthesis import SyndromeExtractionEncoder, quasi_cyclic_check_matrices"
   ]
  },
  {
   "cell_type": "code",
   "execution_count": null,
   "id": "80a2d7fc",
   "metadata": {},
   "outputs": [],
   "source": [
    "# Check matrices for the Steane Code\n",
    "steane_x_checks = np.array([[1, 1, 0, 0, 1, 1, 0], [1, 0, 1, 0, 1, 0, 1], [0, 0, 0, 1, 1, 1, 1]])\n",
    "steane_z_checks = steane_x_checks.copy()"
   ]
  },
  {
   "cell_type": "markdown",
   "id": "9fb3384f",
   "metadata": {},
   "source": [
    "# Decoding Circuit for the Steane Code"
   ]
  },
  {
   "cell_type": "code",
   "execution_count": null,
   "id": "4dd7a127",
   "metadata": {},
   "outputs": [],
   "source": [
    "encoder = SyndromeExtractionEncoder(steane_x_checks, steane_z_checks, 6)\n",
    "res = encoder.solve()\n",
    "encoder.get_circuit().draw(output=\"mpl\")"
   ]
  },
  {
   "cell_type": "markdown",
   "id": "b3ca64bf",
   "metadata": {},
   "source": [
    "# Decoder Circuits for Quasi-Cyclic Codes"
   ]
  },
  {
   "cell_type": "code",
   "execution_count": null,
   "id": "53a852c6",
   "metadata": {},
   "outputs": [],
   "source": [
    "# Near Depth-optimal circuit\n",
    "# This should be fast\n",
    "x, z = quasi_cyclic_check_matrices(72)\n",
    "encoder = SyndromeExtractionEncoder(x, z, 8)\n",
    "\n",
    "res = encoder.solve()\n",
    "encoder.get_circuit().depth()"
   ]
  },
  {
   "cell_type": "code",
   "execution_count": null,
   "id": "12abae0f",
   "metadata": {},
   "outputs": [],
   "source": [
    "# ODepth-optimal Circuit\n",
    "# WARNING: This will take a while\n",
    "x, z = quasi_cyclic_check_matrices(72)\n",
    "encoder = SyndromeExtractionEncoder(x, z, 7)\n",
    "\n",
    "res = encoder.solve()\n",
    "encoder.get_circuit().depth()"
   ]
  }
 ],
 "metadata": {
  "kernelspec": {
   "display_name": "general",
   "language": "python",
   "name": "general"
  },
  "language_info": {
   "codemirror_mode": {
    "name": "ipython",
    "version": 3
   },
   "file_extension": ".py",
   "mimetype": "text/x-python",
   "name": "python",
   "nbconvert_exporter": "python",
   "pygments_lexer": "ipython3"
  }
 },
 "nbformat": 4,
 "nbformat_minor": 5
}
