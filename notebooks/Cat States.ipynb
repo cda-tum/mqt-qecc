{
 "cells": [
  {
   "cell_type": "markdown",
   "id": "64c661b1-4824-430f-b871-2dff78dc7e38",
   "metadata": {},
   "source": [
    "# Non-Deterministic Preparation of Cat States\n",
    "\n",
    "Cat states are of quantum states of the form $|0\\rangle^{\\otimes w}+|1\\rangle^{\\otimes w}$ which have various application in quantum error correction, most famously in Shor-style syndrome extraction where a weight-$w$ stabilizer on a code is measured by performing a transversal CNOT from the support of the stabilizer to a cat state. The difficulty of cat states comes from the fact that it is hard to prepare them in a fault-tolerant manner. If we use cat states for syndrome extraction we want them to be as high-quality as possible.\n",
    "\n",
    "## Non-Fault-tolerant Preparation Circuit\n",
    "A cat state can be prepared by preparing one (arbitrary) qubit in the $|+\\rangle$ state and the remaining $w-1$ in the $|0\\rangle$ state and then entangle the $|+\\rangle$ state with the remaining qubits via CNOT gates. The exact pattern is of these CNOTs is not too important. We just have to make sure that the entanglement spreads to every qubit.\n",
    "\n",
    "One way to do it is by arranging the CNOTs as a perfect balanced binary tree which prepares the state in $\\log_2{w}$ depth. Let's define a noisy stim_circuit that does this."
   ]
  },
  {
   "cell_type": "code",
   "execution_count": 1,
   "id": "209bbfa1-e94a-49df-afbb-fc3c6e9ac9a5",
   "metadata": {},
   "outputs": [
    {
     "data": {
      "text/plain": [
       "'https://algassert.com/crumble#circuit=H_0;DEPOLARIZE1(0.05)0;CX_0_4;DEPOLARIZE2(0.05)0_4;CX_0_2;DEPOLARIZE2(0.05)0_2;CX_4_6;DEPOLARIZE2(0.05)4_6;CX_0_1;DEPOLARIZE2(0.05)0_1;CX_2_3;DEPOLARIZE2(0.05)2_3;CX_4_5;DEPOLARIZE2(0.05)4_5;CX_6_7;DEPOLARIZE2(0.05)6_7'"
      ]
     },
     "execution_count": 1,
     "metadata": {},
     "output_type": "execute_result"
    }
   ],
   "source": [
    "import matplotlib.pyplot as plt\n",
    "import numpy as np\n",
    "import stim\n",
    "\n",
    "circ = stim.Circuit()\n",
    "p = 0.05  # physical error rate\n",
    "\n",
    "\n",
    "def noisy_cnot(circ: stim.Circuit, ctrl: int, trgt: int, p: float) -> None:\n",
    "    circ.append_operation(\"CX\", [ctrl, trgt])\n",
    "    circ.append_operation(\"DEPOLARIZE2\", [ctrl, trgt], p)\n",
    "\n",
    "\n",
    "circ.append_operation(\"H\", [0])\n",
    "circ.append_operation(\"DEPOLARIZE1\", [0], p)\n",
    "\n",
    "noisy_cnot(circ, 0, 4, p)\n",
    "\n",
    "noisy_cnot(circ, 0, 2, p)\n",
    "noisy_cnot(circ, 4, 6, p)\n",
    "\n",
    "noisy_cnot(circ, 0, 1, p)\n",
    "noisy_cnot(circ, 2, 3, p)\n",
    "noisy_cnot(circ, 4, 5, p)\n",
    "noisy_cnot(circ, 6, 7, p)\n",
    "\n",
    "circ.to_crumble_url()"
   ]
  },
  {
   "cell_type": "markdown",
   "id": "09197c31-11db-4722-9d24-a2fc94bc383e",
   "metadata": {},
   "source": [
    "The noisy circuit we get from the function above is not fault-tolerant. A single $X$-error in the circuit might spread to high-weight $X$-errors. We can show this by simulating the circuit. The cat state is a particularly easy state to analyse because it is resilient to $Z$-errors (every $Z$-error is equivalent to a weight-zero or weight-one error) and all $X$ errors simply flip a bit in the state, which can be seen when measuring the state."
   ]
  },
  {
   "cell_type": "code",
   "execution_count": 2,
   "id": "579eef24-4f7a-428d-8199-c1ecace34f42",
   "metadata": {},
   "outputs": [
    {
     "data": {
      "image/png": "[encoded data removed]",
      "text/plain": [
       "<Figure size 640x480 with 1 Axes>"
      ]
     },
     "metadata": {},
     "output_type": "display_data"
    }
   ],
   "source": [
    "cat_state = circ.copy()\n",
    "cat_state.append_operation(\"MR\", range(8))\n",
    "\n",
    "n_samples = 1000000\n",
    "sampler = cat_state.compile_sampler()\n",
    "samples = sampler.sample(n_samples).astype(int)\n",
    "\n",
    "error_weights = np.min(np.vstack((samples.sum(axis=1), 8 - samples.sum(axis=1))), axis=0)  # at most 4 bits can flipe\n",
    "hist, bins = np.histogram(error_weights, bins=range(4 + 2))\n",
    "\n",
    "# Compute bin centers from the bin edges\n",
    "bin_centers = (0.5 * (bins[:-1] + bins[1:])) - 0.5\n",
    "\n",
    "# Create a bar plot with a width of 1 (adjust if needed)\n",
    "plt.bar(bin_centers, hist / n_samples, width=0.5, align=\"center\")\n",
    "plt.xlabel(\"#errors\")\n",
    "plt.ylabel(\"P(num errors=#errors)\")\n",
    "plt.yscale(\"log\")\n",
    "plt.show()"
   ]
  },
  {
   "cell_type": "markdown",
   "id": "2cac43f0-7929-4762-b025-9e7f5854a98f",
   "metadata": {},
   "source": [
    "We see that 1,2 and 4 errors occur on the order of the physical error rate, which we set to $p = 0.05$. Interestingly, 3 errors occur only with a probability of about $p^2$. This is due to the structure of the circuit. If an $X$ error occurs, it either propagates to one or two CNOTs, or it doesn't propagate at all. Three errors are caused by a propagated error and another single-qubit error.\n",
    "\n",
    "## First Attempt at Fault-tolerant Preparation\n",
    "\n",
    "Since the cat-state is CSS, it admits a transversal CNOT. Therefore, we could try to copy the errors of one cat state to another cat state, measure out the qubits of the ancilla state and if we find that an error occurred we restart. Let us do just that now."
   ]
  },
  {
   "cell_type": "code",
   "execution_count": 3,
   "id": "574eb1eb-22e6-43a9-bc89-11452c1e0bf6",
   "metadata": {},
   "outputs": [
    {
     "data": {
      "image/png": "[encoded data removed]",
      "text/plain": [
       "<Figure size 640x480 with 1 Axes>"
      ]
     },
     "metadata": {},
     "output_type": "display_data"
    }
   ],
   "source": [
    "ancilla = stim.Circuit()\n",
    "\n",
    "# define the ancilla state on qubits 8 to 15\n",
    "ancilla.append_operation(\"H\", [8])\n",
    "ancilla.append_operation(\"DEPOLARIZE1\", [8], p)\n",
    "\n",
    "noisy_cnot(ancilla, 8, 12, p)\n",
    "\n",
    "noisy_cnot(ancilla, 8, 10, p)\n",
    "noisy_cnot(ancilla, 12, 14, p)\n",
    "\n",
    "noisy_cnot(ancilla, 8, 9, p)\n",
    "noisy_cnot(ancilla, 10, 11, p)\n",
    "noisy_cnot(ancilla, 12, 13, p)\n",
    "noisy_cnot(ancilla, 14, 15, p)\n",
    "\n",
    "combined = circ + ancilla\n",
    "\n",
    "# perform the transversal cnot\n",
    "combined.append_operation(\"CX\", [q for tup in zip(range(8), range(8, 16)) for q in tup])\n",
    "combined.append_operation(\"DEPOLARIZE2\", [q for tup in zip(range(8), range(8, 16)) for q in tup], p)\n",
    "combined.append_operation(\"X_ERROR\", range(8, 16), p)  # noisy measurements on ancilla\n",
    "\n",
    "# measure out all the qubits\n",
    "# note that in a real circuit we wouldn't measure out the \"data\" cat state\n",
    "combined.append_operation(\"MR\", range(16))\n",
    "\n",
    "\n",
    "def run_experiment(combined_circuit: stim.Circuit) -> None:\n",
    "    n_samples = 5000000\n",
    "    sampler = combined_circuit.compile_sampler()\n",
    "    samples = sampler.sample(n_samples).astype(int)\n",
    "\n",
    "    # filter out all runs where the ancilla state was faulty\n",
    "    anc = samples[:, 8:]\n",
    "    filtered = np.where(np.logical_or(np.all(anc == 1, axis=1), np.all(anc == 0, axis=1)))[0]\n",
    "    state = samples[filtered, :8]\n",
    "    state.shape[0]\n",
    "\n",
    "    error_weights = np.min(np.vstack((state.sum(axis=1), 8 - state.sum(axis=1))), axis=0)  # at most 4 bits can flipe\n",
    "    hist, bins = np.histogram(error_weights, bins=range(4 + 2))\n",
    "\n",
    "    # Compute bin centers from the bin edges\n",
    "    bin_centers = (0.5 * (bins[:-1] + bins[1:])) - 0.5\n",
    "\n",
    "    # Create a bar plot with a width of 1 (adjust if needed)\n",
    "    plt.bar(bin_centers, hist / n_samples, width=0.5, align=\"center\")\n",
    "    plt.xlabel(\"#errors\")\n",
    "    plt.ylabel(\"P(num errors=#errors)\")\n",
    "    plt.yscale(\"log\")\n",
    "    plt.show()\n",
    "\n",
    "\n",
    "run_experiment(combined)"
   ]
  },
  {
   "cell_type": "markdown",
   "id": "3a3e54f9-0859-4a56-b021-e1ece089821f",
   "metadata": {},
   "source": [
    "Now what is happening here? We see that the two-qubit errors happen with probability of about $p^2$ and the three-qubit errors happen with probability of about $p^3$. But it seems that four-qubit errors on accepted states appear with a probability of $p^2$ instead of $p^4$ which we are aiming for. \n",
    "\n",
    "This is because in the constructions, there are propagated weight-four errors that are cancelled on the ancilla by two more errors. Here is a [crumble circuit](https://algassert.com/crumble#circuit=Q(0,0)0;Q(1,0)1;Q(2,0)2;Q(3,0)3;Q(4,0)4;Q(5,0)5;Q(6,0)6;Q(7,0)7;Q(8,0)8;Q(9,0)9;Q(10,0)10;Q(11,0)11;Q(12,0)12;Q(13,0)13;Q(14,0)14;Q(15,0)15;H_0_8;TICK;TICK;CX_0_4_8_12;TICK;MARKX(0)0;TICK;CX_0_2_4_6_8_10_12_14;TICK;MARKX(0)10_8;TICK;CX_0_1_2_3_4_5_6_7_8_9_10_11_12_13_14_15;TICK;TICK;CX_0_8_1_9_2_10_3_11_4_12_5_13_6_14_7_15;TICK;TICK;TICK;MR_0_1_2_3_4_5_6_7_8_9_10_11_12_13_14_15) that visualizes one of these cases.\n",
    "\n",
    "## Second Attempt at Fault-Tolerant State Preparation\n",
    "The problem in the previous construction is that both circuits propagate errors in the same way. We can try to fix this in one of two ways:\n",
    "\n",
    "- Prepare the ancilla with a different circuit.\n",
    "- Permute the transversal CNOTs.\n",
    "\n",
    "The second case is actually a special case of the first one. Permuting how qubits are connected via the transversal CNOT is equivalent to permuting the CNOTs in the ancilla preparation circuit. But let's approach this one first, since it is conceptually simpler. We want to find a permutation such that no errors cancel each other out anymore. Looking at the circuit, one idea is to swap qubits such that all sub-trees in the CNOT trees in the two circuits are similar. One permutation that achieves this is \n",
    "$$(0\\quad 7)$$\n",
    "\n",
    "Let's see how it performs."
   ]
  },
  {
   "cell_type": "code",
   "execution_count": 4,
   "id": "6f76f1b6-87a2-40ea-aaac-3ba63feae112",
   "metadata": {},
   "outputs": [
    {
     "data": {
      "image/png": "[encoded data removed]",
      "text/plain": [
       "<Figure size 640x480 with 1 Axes>"
      ]
     },
     "metadata": {},
     "output_type": "display_data"
    }
   ],
   "source": [
    "combined = circ + ancilla\n",
    "\n",
    "# perform the transversal cnot\n",
    "combined.append_operation(\"CX\", [0, 15, 1, 9, 2, 13, 3, 11, 4, 12, 5, 10, 6, 14, 7, 8])\n",
    "combined.append_operation(\"DEPOLARIZE2\", [0, 15, 1, 9, 2, 10, 3, 11, 4, 12, 5, 13, 6, 14, 7, 8], p)\n",
    "combined.append_operation(\"X_ERROR\", range(8, 16), p)  # noisy measurements on ancilla\n",
    "\n",
    "# measure out all the qubits\n",
    "# note that in a real circuit we wouldn't measure out the \"data\" cat state\n",
    "combined.append_operation(\"MR\", range(8))\n",
    "combined.append(\"TICK\")\n",
    "combined.append_operation(\"MR\", range(8, 16))\n",
    "\n",
    "\n",
    "run_experiment(combined)"
   ]
  },
  {
   "cell_type": "markdown",
   "id": "e136e232-feab-4fb8-8ab5-76643979b0f1",
   "metadata": {},
   "source": [
    "It worked! And it doesn't even come at the cost of a lower acceptance rate. \n",
    "\n",
    "So, the question is: **Is there a general permutation $\\sigma$ that makes this procedure fault-tolerant for arbitrary $w$?**\n",
    "\n",
    "We can try to generalize this with some functionality in `mqt.qecc`:"
   ]
  },
  {
   "cell_type": "code",
   "execution_count": 5,
   "id": "0d8c5499-8c2c-4139-9fd4-fa4da253dc4f",
   "metadata": {},
   "outputs": [],
   "source": [
    "# Change this function and run the cell below to test how it impacts the performance for w=8,16,32\n",
    "def ft_perm(w: int) -> list[int]:\n",
    "    \"\"\"Return the ft permutation for a given number of qubits.\n",
    "\n",
    "    Args:\n",
    "        w: The number of qubits.\n",
    "    Returns:\n",
    "        The recursive permutation\n",
    "    \"\"\"\n",
    "    return np.arrange(w).reshape((w // 4, 4)).T.reshape(w)"
   ]
  },
  {
   "cell_type": "code",
   "execution_count": null,
   "id": "361df615-9fc5-4713-8470-27d6e5cb25ad",
   "metadata": {},
   "outputs": [],
   "source": [
    "from mqt.qecc.circuit_synthesis.cat_states import CatStatePreparationExperiment, cat_state_balanced_tree\n",
    "\n",
    "w = 8\n",
    "circ = cat_state_balanced_tree(w)\n",
    "experiment = CatStatePreparationExperiment(circ, circ, ft_perm(w))\n",
    "experiment.plot_one_p(0.05, n_samples=10000000)\n",
    "\n",
    "w = 16\n",
    "circ = cat_state_balanced_tree(w)\n",
    "experiment = CatStatePreparationExperiment(circ, circ, ft_perm(w))\n",
    "experiment.plot_one_p(0.05, n_samples=10000000)\n",
    "\n",
    "w = 32\n",
    "circ = cat_state_balanced_tree(w)\n",
    "experiment = CatStatePreparationExperiment(circ, circ, ft_perm(w))\n",
    "experiment.plot_one_p(0.05, n_samples=10000000)"
   ]
  },
  {
   "cell_type": "markdown",
   "id": "464a824c-76c4-49d7-9cfd-6d361005a3b6",
   "metadata": {},
   "source": [
    "Maybe the circuits are too similar in general. We can try to construct the circuits in a different way such that the errors propagate in a different manner. This comes at the cost of higher depth. Let's try the following circuit, which is constructed such that it only has weight one, two or three faults."
   ]
  },
  {
   "cell_type": "code",
   "execution_count": null,
   "id": "3b58882c-06bb-4cbf-8652-dc3d0de83c32",
   "metadata": {},
   "outputs": [],
   "source": [
    "ancilla = stim.Circuit()\n",
    "\n",
    "# define the ancilla state on qubits 8 to 15\n",
    "ancilla.append(\"H\", [8])\n",
    "ancilla.append(\"DEPOLARIZE1\", [8], p)\n",
    "\n",
    "noisy_cnot(ancilla, 8, 10, p)\n",
    "\n",
    "noisy_cnot(ancilla, 8, 14, p)\n",
    "\n",
    "noisy_cnot(ancilla, 11, 13, p)\n",
    "\n",
    "noisy_cnot(ancilla, 8, 11, p)\n",
    "\n",
    "noisy_cnot(ancilla, 8, 9, p)\n",
    "noisy_cnot(ancilla, 11, 12, p)\n",
    "noisy_cnot(ancilla, 14, 15, p)\n",
    "\n",
    "combined = circ + ancilla\n",
    "\n",
    "combined.append_operation(\"CX\", [q for tup in zip(range(8), range(8, 16)) for q in tup])\n",
    "combined.append_operation(\"DEPOLARIZE2\", [q for tup in zip(range(8), range(8, 16)) for q in tup], p)\n",
    "combined.append_operation(\"X_ERROR\", range(8, 16), p)  # noisy measurements on ancilla\n",
    "# perform the transversal cnot\n",
    "combined.append_operation(\"MR\", range(8))\n",
    "combined.append(\"TICK\")\n",
    "combined.append_operation(\"MR\", range(8, 16))\n",
    "\n",
    "\n",
    "run_experiment(combined)"
   ]
  },
  {
   "cell_type": "markdown",
   "id": "cc26c16e-4233-4558-9c1a-014df394784d",
   "metadata": {},
   "source": [
    "This already works for $w=8$. The reason this work is a little bit more intricate than the weights of the fault sets. Since a weight-three and a weight-one fault already combine to a weight-4 fault, they might cancel with a weight-4 fault from the other circuit. Therefore, it matters again how the CNOTs are connected. In the case where this fails, we can permute the CNOTs again.\n",
    "\n",
    "So the second question is: **If there is no general permutation to make the previous circuit fault-tolerant, is there a second preparation circuit structure (combined with a permutation) that renders the preparation fault-tolerant for arbitrary $w$?**\n",
    "\n",
    "## Linear Cat State Preparation"
   ]
  },
  {
   "cell_type": "code",
   "execution_count": 3,
   "id": "433e6158-02d2-44cf-9238-ce107672ce5a",
   "metadata": {},
   "outputs": [
    {
     "data": {
      "text/html": [
       "<pre style=\"word-wrap: normal;white-space: pre;background: #fff0;line-height: 1.1;font-family: &quot;Courier New&quot;,Courier,monospace\">     ┌───┐                                        \n",
       "q_0: ┤ H ├──■────■────■────■────■────■────■────■──\n",
       "     └───┘┌─┴─┐  │    │    │    │    │    │    │  \n",
       "q_1: ─────┤ X ├──┼────┼────┼────┼────┼────┼────┼──\n",
       "          └───┘┌─┴─┐  │    │    │    │    │    │  \n",
       "q_2: ──────────┤ X ├──┼────┼────┼────┼────┼────┼──\n",
       "               └───┘┌─┴─┐  │    │    │    │    │  \n",
       "q_3: ───────────────┤ X ├──┼────┼────┼────┼────┼──\n",
       "                    └───┘┌─┴─┐  │    │    │    │  \n",
       "q_4: ────────────────────┤ X ├──┼────┼────┼────┼──\n",
       "                         └───┘┌─┴─┐  │    │    │  \n",
       "q_5: ─────────────────────────┤ X ├──┼────┼────┼──\n",
       "                              └───┘┌─┴─┐  │    │  \n",
       "q_6: ──────────────────────────────┤ X ├──┼────┼──\n",
       "                                   └───┘┌─┴─┐  │  \n",
       "q_7: ───────────────────────────────────┤ X ├──┼──\n",
       "                                        └───┘┌─┴─┐\n",
       "q_8: ────────────────────────────────────────┤ X ├\n",
       "                                             └───┘</pre>"
      ],
      "text/plain": [
       "     ┌───┐                                        \n",
       "q_0: ┤ H ├──■────■────■────■────■────■────■────■──\n",
       "     └───┘┌─┴─┐  │    │    │    │    │    │    │  \n",
       "q_1: ─────┤ X ├──┼────┼────┼────┼────┼────┼────┼──\n",
       "          └───┘┌─┴─┐  │    │    │    │    │    │  \n",
       "q_2: ──────────┤ X ├──┼────┼────┼────┼────┼────┼──\n",
       "               └───┘┌─┴─┐  │    │    │    │    │  \n",
       "q_3: ───────────────┤ X ├──┼────┼────┼────┼────┼──\n",
       "                    └───┘┌─┴─┐  │    │    │    │  \n",
       "q_4: ────────────────────┤ X ├──┼────┼────┼────┼──\n",
       "                         └───┘┌─┴─┐  │    │    │  \n",
       "q_5: ─────────────────────────┤ X ├──┼────┼────┼──\n",
       "                              └───┘┌─┴─┐  │    │  \n",
       "q_6: ──────────────────────────────┤ X ├──┼────┼──\n",
       "                                   └───┘┌─┴─┐  │  \n",
       "q_7: ───────────────────────────────────┤ X ├──┼──\n",
       "                                        └───┘┌─┴─┐\n",
       "q_8: ────────────────────────────────────────┤ X ├\n",
       "                                             └───┘"
      ]
     },
     "execution_count": 3,
     "metadata": {},
     "output_type": "execute_result"
    }
   ],
   "source": [
    "from mqt.qecc.circuit_synthesis.cat_states import CatStatePreparationExperiment, cat_state_line\n",
    "from qiskit import QuantumCircuit\n",
    "\n",
    "w=8 \n",
    "\n",
    "circ = cat_state_line(9)\n",
    "\n",
    "QuantumCircuit.from_qasm_str(circ.to_qasm(open_qasm_version=2)).draw()"
   ]
  },
  {
   "cell_type": "code",
   "execution_count": 11,
   "id": "4971cb57-dddd-436b-ad36-2f02498ff9a6",
   "metadata": {},
   "outputs": [
    {
     "data": {
      "text/plain": [
       "[0, 8, 1, 6, 3, 4, 5, 2, 7]"
      ]
     },
     "execution_count": 11,
     "metadata": {},
     "output_type": "execute_result"
    }
   ],
   "source": [
    "swap_perm = [0] + [w-i if i%2 == 0 else i for i in range(w)]\n",
    "swap_perm"
   ]
  },
  {
   "cell_type": "code",
   "execution_count": 24,
   "id": "99cd623b-9279-44a9-97fa-0daaeaa8dcc9",
   "metadata": {},
   "outputs": [
    {
     "data": {
      "image/png": "[encoded data removed]",
      "text/plain": [
       "<Figure size 640x480 with 1 Axes>"
      ]
     },
     "metadata": {},
     "output_type": "display_data"
    }
   ],
   "source": [
    "from mqt.qecc.circuit_synthesis.cat_states import CatStatePreparationExperiment, cat_state_line\n",
    "\n",
    "w = 13\n",
    "#swap_perm = np.random.permutation(list(range(w)))\n",
    "#swap_perm = [ 6,  2, 10,  4,  7, 11,  5,  9,  8,  1,  3, 12,  0]\n",
    "perm = list(range(w))\n",
    "perm = cyclic_shift_n(perm, 3)\n",
    "circ = cat_state_line(w)\n",
    "circ2 = cat_state_line(w)\n",
    "# permutation = np.random.permutation(np.arrange(16))\n",
    "# permutation[[0,2,4,6, 8,10,12,14]] = permutation[[8,10,12,14,0,2,4,6]]\n",
    "# permutation[[1,2, 5,6, 8,9, 12,13]] = permutation[[8,9, 12,13, 1,2, 5,6,]]\n",
    "# permutation[[2,3,4,5, 8,9,10,11]] = permutation[[8,9,10,11,2,3,4,5, ]]\n",
    "experiment = CatStatePreparationExperiment(circ, circ2, perm)\n",
    "experiment.plot_one_p(0.05, n_samples=500000000, batch_size=1000000)"
   ]
  },
  {
   "cell_type": "code",
   "execution_count": null,
   "id": "9bd1e268-44b2-4d09-8f69-234c7c07a144",
   "metadata": {},
   "outputs": [],
   "source": [
    "from mqt.qecc.circuit_synthesis.cat_states import CatStatePreparationExperiment, cat_state_line\n",
    "\n",
    "w = 31\n",
    "#swap_perm = np.random.permutation(list(range(w)))\n",
    "#swap_perm = [ 6,  2, 10,  4,  7, 11,  5,  9,  8,  1,  3, 12,  0]\n",
    "perm = list(range(w))\n",
    "for i in range(1, w//2, 2):\n",
    "    perm[i], perm[w//2+i] = perm[w//2+i], perm[i]\n",
    "#perm = np.random.permutation(list(range(w)))\n",
    "#perm = cyclic_shift_n(perm, 3)\n",
    "circ = cat_state_line(w)\n",
    "circ2 = cat_state_line(w)\n",
    "# permutation = np.random.permutation(np.arrange(16))\n",
    "# permutation[[0,2,4,6, 8,10,12,14]] = permutation[[8,10,12,14,0,2,4,6]]\n",
    "# permutation[[1,2, 5,6, 8,9, 12,13]] = permutation[[8,9, 12,13, 1,2, 5,6,]]\n",
    "# permutation[[2,3,4,5, 8,9,10,11]] = permutation[[8,9,10,11,2,3,4,5, ]]\n",
    "experiment = CatStatePreparationExperiment(circ, circ2, perm)\n",
    "experiment.plot_one_p(0.02, n_samples=5000000000, batch_size=1000000)"
   ]
  },
  {
   "cell_type": "code",
   "execution_count": 15,
   "id": "7b9c25bb-0592-4542-8eb7-4d9747e1242b",
   "metadata": {},
   "outputs": [
    {
     "data": {
      "text/plain": [
       "[0, 9, 2, 11, 4, 13, 6, 15, 8, 1, 10, 3, 12, 5, 14, 7]"
      ]
     },
     "execution_count": 15,
     "metadata": {},
     "output_type": "execute_result"
    }
   ],
   "source": [
    "perm = list(range(w))\n",
    "for i in range(1, w//2, 2):\n",
    "    perm[i], perm[w//2+i] = perm[w//2+i], perm[i]\n",
    "\n",
    "perm"
   ]
  },
  {
   "cell_type": "code",
   "execution_count": 20,
   "id": "88892f09-a3de-464f-a726-f828485d14a4",
   "metadata": {},
   "outputs": [
    {
     "data": {
      "text/plain": [
       "[0, 5, 10, 2, 7, 12, 4, 9, 1, 6, 11, 3, 8]"
      ]
     },
     "execution_count": 20,
     "metadata": {},
     "output_type": "execute_result"
    }
   ],
   "source": [
    "def cyclic_shift(perm):\n",
    "    w = len(perm)\n",
    "    p = [None for _ in range(w)]\n",
    "    p[0] = perm[0]\n",
    "    for i in range(1, w):\n",
    "        p[2*i%w] = perm[i]\n",
    "    return p\n",
    "\n",
    "def cyclic_shift_n(perm, n):\n",
    "    for _ in range(n):\n",
    "        perm = cyclic_shift(perm)\n",
    "    return perm\n",
    "    \n",
    "perm = list(range(13))\n",
    "cyclic_shift_n(perm, 3)"
   ]
  },
  {
   "cell_type": "code",
   "execution_count": null,
   "id": "4bfd2c29-6826-4f4e-8fc4-a7487b531897",
   "metadata": {},
   "outputs": [],
   "source": [
    "    \n",
    "mat = np.array([[1 if j <= i else 0 for j in range(w)] for i in range(w//2)] + [[1 if j >= i else 0 for j in range(w)] for i in range(w//2,w)] )\n",
    "print(mat)\n",
    "mat = mat[:,swap_perm]\n",
    "print(mat)"
   ]
  },
  {
   "cell_type": "code",
   "execution_count": 49,
   "id": "a5de99f1-d8ea-4d8e-9e39-46c794f5bf1c",
   "metadata": {},
   "outputs": [
    {
     "data": {
      "text/plain": [
       "'https://algassert.com/crumble#circuit=H_0;CX_0_1_0_2_0_3_0_4_0_5_0_6_0_7_0_8_0_9_0_10;H_11;CX_11_12_11_13_11_14_11_15_11_16_11_17_11_18_11_19_11_20_11_21_0_11_1_20_2_19_3_18_4_17_5_16_6_15_7_14_8_13_9_12_10_21;MR_11_12_13_14_15_16_17_18_19_20_21'"
      ]
     },
     "execution_count": 49,
     "metadata": {},
     "output_type": "execute_result"
    }
   ],
   "source": [
    "experiment.circ.to_crumble_url()"
   ]
  },
  {
   "cell_type": "code",
   "execution_count": 6,
   "id": "4af422ed-33fe-41d5-919f-58c0cba2481f",
   "metadata": {},
   "outputs": [
    {
     "name": "stdout",
     "output_type": "stream",
     "text": [
      "[0, 1, 2, 3, 4, 5, 6, 7, 8, 9, 10, 11, 12, 13, 14]\n",
      "[0, 14, 2, 12, 4, 10, 6, 8, 7, 9, 5, 11, 3, 13, 1]\n"
     ]
    }
   ],
   "source": [
    "swap_perm = list(range(w))\n",
    "for i in range(1, w//2+2):\n",
    "    if i%2==0:\n",
    "        swap_perm[i-1], swap_perm[w-i+1] = (swap_perm[w-i+1], swap_perm[i-1])\n",
    "\n",
    "print(list(range(w)))\n",
    "print(swap_perm)\n"
   ]
  },
  {
   "cell_type": "markdown",
   "id": "76aca84d-1f5a-4b10-95ab-8b5599f377a2",
   "metadata": {},
   "source": [
    "## Playground for Testing out Stuff"
   ]
  },
  {
   "cell_type": "code",
   "execution_count": null,
   "id": "9b82a89f-5864-4229-aa9f-72311414478d",
   "metadata": {},
   "outputs": [],
   "source": [
    "from mqt.qecc.circuit_synthesis.cat_states import CatStatePreparationExperiment, cat_state_balanced_tree, ft_perm\n",
    "\n",
    "w = 16\n",
    "circ = cat_state_balanced_tree(w)\n",
    "circ2 = cat_state_balanced_tree(w)\n",
    "# permutation = np.random.permutation(np.arrange(16))\n",
    "# permutation[[0,2,4,6, 8,10,12,14]] = permutation[[8,10,12,14,0,2,4,6]]\n",
    "# permutation[[1,2, 5,6, 8,9, 12,13]] = permutation[[8,9, 12,13, 1,2, 5,6,]]\n",
    "# permutation[[2,3,4,5, 8,9,10,11]] = permutation[[8,9,10,11,2,3,4,5, ]]\n",
    "permutation = np.array([12, 10, 1, 13, 6, 4, 2, 9, 5, 15, 11, 8, 0, 7, 14, 3])  # determined by sampling\n",
    "experiment = CatStatePreparationExperiment(circ, circ2, permutation)\n",
    "experiment.plot_one_p(0.05, n_samples=5000000000, batch_size=100000)"
   ]
  },
  {
   "cell_type": "code",
   "execution_count": null,
   "id": "7335924f-f4a6-4d7c-a7c7-9c6b600d84b9",
   "metadata": {},
   "outputs": [],
   "source": [
    "from mqt.qecc.circuit_synthesis.cat_states import CatStatePreparationExperiment, cat_state_balanced_tree\n",
    "\n",
    "w = 16\n",
    "circ = cat_state_balanced_tree(w)\n",
    "circ2 = cat_state_balanced_tree(w)\n",
    "permutation = np.arrange(w)\n",
    "\n",
    "permutation = [12, 5, 9, 2, 6, 13, 14, 1, 3, 7, 15, 10, 0, 8, 4, 11]\n",
    "\n",
    "experiment = CatStatePreparationExperiment(circ, circ2, permutation)\n",
    "experiment.plot_one_p(0.05, n_samples=100000000000, batch_size=1000000)"
   ]
  },
  {
   "cell_type": "code",
   "execution_count": null,
   "id": "482b4f8b-3148-4857-802c-3529257ff3b4",
   "metadata": {},
   "outputs": [],
   "source": [
    "from mqt.qecc.circuit_synthesis.cat_states import CatStatePreparationExperiment, cat_state_balanced_tree\n",
    "\n",
    "w = 16\n",
    "circ = cat_state_balanced_tree(w)\n",
    "circ2 = cat_state_balanced_tree(w)\n",
    "permutation = np.arrange(w)\n",
    "\n",
    "permutation = [0, 1, 6, 10, 13, 3, 5, 15, 2, 8, 11, 14, 4, 9, 12, 7]\n",
    "\n",
    "experiment = CatStatePreparationExperiment(circ, circ2, permutation)\n",
    "experiment.plot_one_p(0.05, n_samples=100000000, batch_size=1000000)"
   ]
  },
  {
   "cell_type": "code",
   "execution_count": null,
   "id": "e65b00e3-af44-492a-a409-a84c6e80dbc6",
   "metadata": {},
   "outputs": [],
   "source": [
    "from mqt.qecc.circuit_synthesis.cat_states import CatStatePreparationExperiment, cat_state_balanced_tree\n",
    "\n",
    "w = 16\n",
    "circ = cat_state_balanced_tree(w)\n",
    "circ2 = cat_state_balanced_tree(w)\n",
    "permutation = np.arrange(w)\n",
    "\n",
    "permutation = [0, 1, 6, 10, 13, 3, 5, 15, 2, 8, 11, 14, 4, 9, 12, 7]\n",
    "\n",
    "experiment = CatStatePreparationExperiment(circ, circ2, permutation)"
   ]
  },
  {
   "cell_type": "code",
   "execution_count": null,
   "id": "7f170bff-8ac0-41d6-9ef0-3ad68ffec8a5",
   "metadata": {},
   "outputs": [],
   "source": [
    "experiment.circ.to_crumble_url()"
   ]
  },
  {
   "cell_type": "code",
   "execution_count": null,
   "id": "5edc6806-dacc-47cb-8b4b-a46f60f7134c",
   "metadata": {},
   "outputs": [],
   "source": [
    "inverse = [None for i in range(len(permutation))]\n",
    "for i, j in enumerate(permutation):\n",
    "    inverse[j] = i\n",
    "inverse"
   ]
  }
 ],
 "metadata": {
  "kernelspec": {
   "display_name": "python11",
   "language": "python",
   "name": "python11"
  },
  "language_info": {
   "codemirror_mode": {
    "name": "ipython",
    "version": 3
   },
   "file_extension": ".py",
   "mimetype": "text/x-python",
   "name": "python",
   "nbconvert_exporter": "python",
   "pygments_lexer": "ipython3",
   "version": "3.11.11"
  }
 },
 "nbformat": 4,
 "nbformat_minor": 5
}
