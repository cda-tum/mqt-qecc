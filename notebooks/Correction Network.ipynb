{
 "cells": [
  {
   "cell_type": "code",
   "execution_count": null,
   "id": "9f21998a-6ce6-4d08-a967-6cb687b9dea0",
   "metadata": {},
   "outputs": [],
   "source": [
    "from mqt.qecc.circuit_synthesis import correction_network"
   ]
  },
  {
   "cell_type": "code",
   "execution_count": null,
   "id": "1ce0e5d2-d7dc-414a-ad41-fae660d866fc",
   "metadata": {},
   "outputs": [],
   "source": [
    "# remap qubits to be contiguous and store inverse maps\n",
    "flip_index_map = {2: 0, 7: 1, 11: 2, 14: 3}\n",
    "flip_index_map_inverse = {i: j for j, i in flip_index_map.items()}\n",
    "correction_index_map = {0: 0, 3: 1, 4: 2, 6: 3, 8: 4, 10: 5, 12: 6}\n",
    "correction_index_map_inverse = {i: j for j, i in correction_index_map.items()}\n",
    "\n",
    "# map from flipped qubits to wanted corrections\n",
    "correction_map = {\n",
    "    (11,): [0, 3, 4, 6, 8, 10, 12],\n",
    "    (2,): [3, 4, 6, 10],\n",
    "    (14,): [0, 3, 12],\n",
    "    (7,): [3, 8],\n",
    "    (11, 14): [4],\n",
    "    (2, 14): [0, 10],\n",
    "    (7, 11): [0, 6],\n",
    "    (2, 7): [0, 4, 8],\n",
    "    (7, 14): [4, 12],\n",
    "    (2, 11, 14): [6, 12],\n",
    "    (2, 7, 11): [10],\n",
    "    (7, 11, 14): [6, 8],\n",
    "    (2, 7, 14): [8, 10, 12],\n",
    "    (2, 7, 11, 14): [3],\n",
    "    (2, 11): [],\n",
    "}\n",
    "\n",
    "correction_map_mapped = {}\n",
    "for pattern, correction in correction_map.items():\n",
    "    pattern_mapped = tuple(flip_index_map[q] for q in pattern)\n",
    "    correction_mapped = [correction_index_map[q] for q in correction]\n",
    "    correction_map_mapped[pattern_mapped] = correction_mapped\n",
    "\n",
    "n_data = 7\n",
    "n_flips = 4\n",
    "\n",
    "network = correction_network(n_data, n_flips, correction_map_mapped)\n",
    "\n",
    "network_remapped = {}\n",
    "for pattern, correction in network.items():\n",
    "    pattern_mapped = tuple(flip_index_map_inverse[q] for q in pattern)\n",
    "    correction_mapped = [correction_index_map_inverse[q] for q in correction]\n",
    "    network_remapped[pattern_mapped] = correction_mapped\n",
    "\n",
    "network_remapped"
   ]
  }
 ],
 "metadata": {
  "kernelspec": {
   "display_name": "python11",
   "language": "python",
   "name": "python11"
  },
  "language_info": {
   "codemirror_mode": {
    "name": "ipython",
    "version": 3
   },
   "file_extension": ".py",
   "mimetype": "text/x-python",
   "name": "python",
   "nbconvert_exporter": "python",
   "pygments_lexer": "ipython3"
  }
 },
 "nbformat": 4,
 "nbformat_minor": 5
}
