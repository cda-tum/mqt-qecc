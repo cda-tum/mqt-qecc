{
 "cells": [
  {
   "cell_type": "markdown",
   "metadata": {},
   "source": [
    "# LightsOut decoder for quantum codes\n",
    "\n",
    "The QECC package provides a decoder for decoding quantum codes based on an analogy to the well-known LightsOut puzzle.\n",
    "Currently, it supports decoding triangular color codes and allows to conduct numerical experiments on the performance of the decoder considering bit-flip noise with perfect syndrome measurements.\n",
    "In the following, we will give a brief introduction to quantum codes and the LightsOut puzzle and then show how to use the decoder to decode quantum codes.\n",
    "\n",
    "## Quantum Codes\n",
    "As in classical computing, a quantum code protects information from errors by adding redundancy in a certain way to make the information less fragile. A classical binary code is defined as a vector space such that each vector in that space fulfills a set of constraints, called `checks`. For binary codes, the checks of the code are parity checks that determine whether the sum (mod 2) of some entries of a vector is even or odd (equal to 0 or 1).\n",
    "An important class of quantum codes, `CSS` codes can be seen as a certain combination of two classical codes, i.e., they have two sets of checks. In the following, we consider a simple bit-flip noise model, which implies that we can treat both sets of checks equivalently. As a consequence, we will focus on a single set of checks for the remainder of this notebook.\n",
    "\n",
    "An example of a quantum code is presented in the following figure.\n",
    "\n",
    "<img src=\"images/cc.png\" alt=\"Triangular color code\" width=\"50%\">\n",
    "\n",
    "This is a quantum color code, that is defined on a three-valent and three-colorable lattice with triangular shape. \n",
    "Each vertex corresponds to a single bit of the code and the checks correspond to the faces, i.e., each face computes the sum (mod 2) of the bits around it. If a vector satisfies all checks, it is a codeword of the code. However, in case an error occurs on a single bit, the checks in which the bit is involved in, i.e., the faces around the vertex of the bit will indicate that the sum is not even anymore, and hence will indicate an error happened. This is illustrated in the following figure for a small triangular color code\n",
    "<img src=\"images/steane-ex.png\" alt=\"Color code example\" width=\"15%\">\n",
    "\n",
    "The decoding task is now, given a set of violated checks, i.e., marked faces, to find a set of bits to flip such that no check is violated anymore. In case of the example above, flipping the bit on the very top of the triangle is a valid decoding estimate.\n",
    "\n",
    "## LightsOut puzzle\n",
    "\n",
    "We solve the problem of decoding quantum codes by a reduction to the well-known mathematical puzzle `LightsOut`. Originally, the puzzle is defined on a rectangular lattice whose faces correspond to lights that can be turned on or off. Pressing a light toggles the light (from on to off and vice versa) as well as all adjacent lights around it. The puzzle starts out in an initial configuration where some lights are turned on and the goal is to find a sequence of lights to press (a sequence of `moves` such that all lights are turned off), as illustrated in the following figure:\n",
    "\n",
    "<img src=\"images/lo.png\" alt=\"LightsOut puzzle\" width=\"50%\">\n",
    "\n",
    "To show how this can be used to decode a code, consider the following variation where: the faces correspond to lights and the vertices correspond to switches that toggle all lights around them. For the triangular color code, the LightsOut variant and an example of an initial configuration and a solution to the puzzle is given in the following figure\n",
    "\n",
    "<img src=\"images/lights-out.png\" alt=\"LightsOut color code\" width=\"50%\">\n",
    "\n",
    "Our decoder uses a satisfiability formulation (MaxSAT) of the LightsOut puzzle, to find a minimal set of switches that turns off all the lights. \n",
    "\n",
    "\n",
    "## Using QECC to decode quantum codes using the LightsOut solution\n",
    "\n",
    "First, we need to construct the lattice of the underlying quantum code. For this we use the `HexagonalColorCode` object which constructs a hexagonal lattice with triangular shape as depicted above, given the side length as the only parameter."
   ]
  },
  {
   "cell_type": "code",
   "execution_count": null,
   "metadata": {},
   "outputs": [],
   "source": [
    "from mqt.qecc.cc_decoder.hexagonal_color_code import HexagonalColorCode\n",
    "\n",
    "side_length = 3\n",
    "lattice = HexagonalColorCode(side_length)"
   ]
  },
  {
   "cell_type": "markdown",
   "metadata": {},
   "source": [
    "Then, using the lattice, we construct a `LightsOut` puzzle object that manages the construction of the satisfiability formulation.\n",
    "In the formulation, each switch corresponds to a Boolean propositional variable and each check is realized as a parity constraint involving all switch variables surrounding a light.\n",
    "The satisfiability formulation is constructed using the `preconstruct_z3_instance` method. This method constructs parts of the formulation that are independent of the initial configuration of the LightsOut puzzle. This allows to reuse the formulation for different initial configurations."
   ]
  },
  {
   "cell_type": "code",
   "execution_count": null,
   "metadata": {},
   "outputs": [],
   "source": [
    "from mqt.qecc.cc_decoder.decoder import LightsOut\n",
    "\n",
    "problem = LightsOut(lattice.faces_to_qubits, lattice.qubits_to_faces)\n",
    "problem.preconstruct_z3_instance()"
   ]
  },
  {
   "cell_type": "markdown",
   "metadata": {},
   "source": [
    "Now we can construct the satisfiability formulation for a specific initial configuration of the LightsOut puzzle.\n",
    "To do so, we need to define a list that indicates which lights are initially on. For the example above, we can set the first light to be on and the other two to be off."
   ]
  },
  {
   "cell_type": "code",
   "execution_count": null,
   "metadata": {},
   "outputs": [],
   "source": [
    "lights = [True, False, False]"
   ]
  },
  {
   "cell_type": "markdown",
   "metadata": {},
   "source": [
    "Now we can solve the LightsOut puzzle for the given initial configuration, i.e., we find a minimal set of switches that turns off all the lights.\n",
    "This is done using the `solve` method of the `LightsOut` object. This method takes the initial configuration of the LightsOut puzzle as input and returns a set of switches that constitute a solution to the LightsOut puzzle and the time needed to construct the satisfiability formulation and the solving time of the MaxSAT solver.\n"
   ]
  },
  {
   "cell_type": "code",
   "execution_count": null,
   "metadata": {},
   "outputs": [],
   "source": [
    "switches, constr_time, solve_time = problem.solve(lights)"
   ]
  },
  {
   "cell_type": "markdown",
   "metadata": {},
   "source": [
    "### Running numerical experiments\n",
    "\n",
    "The QECC package also provides a function to run numerical experiments on the performance of the decoder.\n",
    "Currently, the decoder is only implemented for the triangular color code and considering bit-flip noise with perfect syndrome measurements.\n",
    "\n",
    "To start `n` simulations for a distance `d` triangular color code assuming a bit-flip error rate of `p`, the following Python script can be used.\n",
    "\n",
    "```python3\n",
    "from mqt.qecc.cc_decoder import decoder\n",
    "\n",
    "d = 21  # distance of the triangular code to simulate\n",
    "p = 0.01  # (bit-flip) error rate\n",
    "n = 1000  # number of simulations to run\n",
    "decoder.run(distance=d, error_rate=p, nr_sims=n)\n",
    "```\n",
    "\n",
    "Alternatively, the numerical simulation methods are available from the command line via the `mqt.qecc.cc-decoder` command.\n",
    "Type `mqt.qecc.cc-decoder --help` to see the available options.\n",
    "\n",
    "```bash\n",
    "$ mqt.qecc.cc-decoder --help\n",
    "usage: mqt.qecc.cc-decoder [-h] [--nr_sims NR_SIMS] [--results_dir RESULTS_DIR] [--decoder DECODER] [--solver SOLVER] distance error_rate\n",
    "\n",
    "positional arguments:\n",
    "  distance              the distance of the code\n",
    "  error_rate            the error rate\n",
    "\n",
    "options:\n",
    "  -h, --help            show this help message and exit\n",
    "  --nr_sims NR_SIMS     the number of simulations to run. Default: 10000\n",
    "  --results_dir RESULTS_DIR\n",
    "                        the directory to save the results to. Default: ./results\n",
    "  --decoder DECODER     the decoder to use (maxsat or tn). Default: maxsat\n",
    "  --solver SOLVER       maxsat solver to use (path to a executable). Default: z3\n",
    "```\n"
   ]
  },
  {
   "cell_type": "markdown",
   "metadata": {},
   "source": [
    "Check out the [reference documentation](library/LightsOutDecoder.rst) for more information.\n"
   ]
  }
 ],
 "metadata": {
  "kernelspec": {
   "display_name": "Python 3 (ipykernel)",
   "language": "python",
   "name": "python3"
  },
  "language_info": {
   "codemirror_mode": {
    "name": "ipython",
    "version": 3
   },
   "file_extension": ".py",
   "mimetype": "text/x-python",
   "name": "python",
   "nbconvert_exporter": "python",
   "pygments_lexer": "ipython3"
  },
  "widgets": {
   "application/vnd.jupyter.widget-state+json": {
    "state": {},
    "version_major": 2,
    "version_minor": 0
   }
  }
 },
 "nbformat": 4,
 "nbformat_minor": 4
}
