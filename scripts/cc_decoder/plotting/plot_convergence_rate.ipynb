{
 "cells": [
  {
   "cell_type": "code",
   "execution_count": null,
   "metadata": {},
   "outputs": [],
   "source": [
    "import locale\n",
    "import os\n",
    "from collections import defaultdict\n",
    "\n",
    "import matplotlib.pyplot as plt\n",
    "from matplotlib import ticker\n",
    "\n",
    "with open(f\"{os.getcwd()}/convergence_rate.txt\", encoding=locale.getpreferredencoding(False)) as file:\n",
    "    content = file.read()\n",
    "\n",
    "convergence_rate_dict = defaultdict(lambda: defaultdict(int))\n",
    "for line in content.split(\"\\n\"):\n",
    "    d, per, n_converged, n_not_converged = line.split(\" \")[:]\n",
    "    convergence_rate_dict[d][round(float(per), 5)] = (int(n_converged), int(n_not_converged))"
   ]
  },
  {
   "cell_type": "code",
   "execution_count": null,
   "metadata": {},
   "outputs": [],
   "source": [
    "for d in convergence_rate_dict:\n",
    "    pers = []\n",
    "    convergence_rates = []\n",
    "    for per in convergence_rate_dict[d]:\n",
    "        pers.append(per)\n",
    "    pers.sort()\n",
    "\n",
    "    for per in pers:\n",
    "        n_converged, n_not_converged = convergence_rate_dict[d][per]\n",
    "        convergence_rates.append(n_converged / (n_converged + n_not_converged))\n",
    "    plt.plot(pers, convergence_rates, label=f\"d={d}\")\n",
    "\n",
    "ax = plt.gca()\n",
    "ax.xaxis.set_major_locator(ticker.MaxNLocator(nbins=10))\n",
    "ax.grid()\n",
    "\n",
    "plt.legend()\n",
    "plt.ylabel(\"Convergence rate\")\n",
    "plt.xlabel(\"Physical error rate\")\n",
    "plt.savefig(\"convergence.svg\")"
   ]
  }
 ],
 "metadata": {
  "kernelspec": {
   "display_name": "Python 3",
   "language": "python",
   "name": "python3"
  },
  "language_info": {
   "codemirror_mode": {
    "name": "ipython",
    "version": 3
   },
   "file_extension": ".py",
   "mimetype": "text/x-python",
   "name": "python",
   "nbconvert_exporter": "python",
   "pygments_lexer": "ipython3"
  }
 },
 "nbformat": 4,
 "nbformat_minor": 2
}
