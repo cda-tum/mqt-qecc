{
 "cells": [
  {
   "cell_type": "code",
   "execution_count": null,
   "metadata": {},
   "outputs": [],
   "source": [
    "from pathlib import Path\n",
    "\n",
    "import matplotlib.pyplot as plt\n",
    "import numpy as np\n",
    "import sinter\n",
    "\n",
    "samples = sinter.read_stats_from_csv_files(f\"{Path.cwd()}/pseudothreshold_plot.csv\")"
   ]
  },
  {
   "cell_type": "code",
   "execution_count": null,
   "metadata": {},
   "outputs": [],
   "source": [
    "# Render a matplotlib plot of the data.\n",
    "fig, ax = plt.subplots(1, 1)\n",
    "sinter.plot_error_rate(\n",
    "    ax=ax,\n",
    "    stats=samples,\n",
    "    group_func=lambda stat: f\"d={stat.json_metadata['d']}, {stat.decoder}\",\n",
    "    x_func=lambda stat: stat.json_metadata[\"p\"],\n",
    "    failure_units_per_shot_func=lambda stats: stats.json_metadata[\"rounds\"],\n",
    "    filter_func=lambda stat: stat.json_metadata[\"d\"] < 5,\n",
    ")\n",
    "x_s = np.linspace(0.001, 0.029, 1000000)\n",
    "y_s = np.linspace(0.001, 0.029, 1000000)\n",
    "ax.set_yscale(\"log\")\n",
    "ax.plot(x_s, y_s, \"k-\", alpha=0.75, zorder=0, label=\"x=y\")\n",
    "ax.grid()\n",
    "ax.set_title(\"Phenomenological Noise\")\n",
    "ax.set_ylabel(\"Logical Error Probability (per shot)\")\n",
    "ax.set_xlabel(\"Physical Error Rate\")\n",
    "ax.legend(loc=\"lower right\")\n",
    "fig.savefig(\"pseudoth.svg\")"
   ]
  },
  {
   "cell_type": "code",
   "execution_count": null,
   "metadata": {},
   "outputs": [],
   "source": [
    "# Render a matplotlib plot of the data.\n",
    "fig, ax = plt.subplots(1, 1)\n",
    "sinter.plot_error_rate(\n",
    "    ax=ax,\n",
    "    stats=samples,\n",
    "    group_func=lambda stat: f\"d={stat.json_metadata['d']}, {stat.decoder}\",\n",
    "    x_func=lambda stat: stat.json_metadata[\"p\"],\n",
    "    failure_units_per_shot_func=lambda stats: stats.json_metadata[\"rounds\"],\n",
    "    filter_func=lambda stat: stat.json_metadata[\"d\"] > 4,\n",
    ")\n",
    "x_s = np.linspace(0.001, 0.029, 1000000)\n",
    "y_s = np.linspace(0.001, 0.029, 1000000)\n",
    "ax.set_yscale(\"log\")\n",
    "ax.plot(x_s, y_s, \"k-\", alpha=0.75, zorder=0, label=\"x=y\")\n",
    "ax.grid()\n",
    "ax.set_title(\"Phenomenological Noise\")\n",
    "ax.set_ylabel(\"Logical Error Probability (per shot)\")\n",
    "ax.set_xlabel(\"Physical Error Rate\")\n",
    "ax.set_ylim(0.00001, 1)\n",
    "ax.legend(loc=\"lower right\")\n",
    "fig.savefig(\"no-pseudoth.svg\")"
   ]
  },
  {
   "cell_type": "code",
   "execution_count": null,
   "metadata": {},
   "outputs": [],
   "source": [
    "# Render a matplotlib plot of the data.\n",
    "fig, ax = plt.subplots(1, 2, sharey=True, figsize=(12, 5))\n",
    "sinter.plot_error_rate(\n",
    "    ax=ax[0],\n",
    "    stats=samples,\n",
    "    group_func=lambda stat: f\"d={stat.json_metadata['d']}, {stat.decoder}\",\n",
    "    x_func=lambda stat: stat.json_metadata[\"p\"],\n",
    "    failure_units_per_shot_func=lambda stats: stats.json_metadata[\"rounds\"],\n",
    "    filter_func=lambda stat: stat.json_metadata[\"d\"] < 5,\n",
    ")\n",
    "x_s = np.linspace(0.001, 0.029, 1000000)\n",
    "y_s = np.linspace(0.001, 0.029, 1000000)\n",
    "ax[0].set_yscale(\"log\")\n",
    "ax[0].plot(x_s, y_s, \"k-\", alpha=0.75, zorder=0, label=\"x=y\")\n",
    "ax[0].grid()\n",
    "ax[0].set_ylabel(\"Logical Error Probability (per shot)\")\n",
    "ax[0].set_xlabel(\"Physical Error Rate\")\n",
    "ax[0].legend(loc=\"lower right\")\n",
    "\n",
    "# Render a matplotlib plot of the data.\n",
    "sinter.plot_error_rate(\n",
    "    ax=ax[1],\n",
    "    stats=samples,\n",
    "    group_func=lambda stat: f\"d={stat.json_metadata['d']}, {stat.decoder}\",\n",
    "    x_func=lambda stat: stat.json_metadata[\"p\"],\n",
    "    failure_units_per_shot_func=lambda stats: stats.json_metadata[\"rounds\"],\n",
    "    filter_func=lambda stat: stat.json_metadata[\"d\"] > 4,\n",
    ")\n",
    "x_s = np.linspace(0.001, 0.029, 1000000)\n",
    "y_s = np.linspace(0.001, 0.029, 1000000)\n",
    "ax[1].set_yscale(\"log\")\n",
    "ax[1].plot(x_s, y_s, \"k-\", alpha=0.75, zorder=0, label=\"x=y\")\n",
    "ax[1].grid()\n",
    "# ax[1].set_ylabel('Logical Error Probability (per shot)')\n",
    "ax[1].set_xlabel(\"Physical Error Rate\")\n",
    "ax[1].set_ylim(0.00001, 1)\n",
    "ax[1].legend(loc=\"lower right\")\n",
    "\n",
    "fig.savefig(\"pseudoth.svg\")"
   ]
  }
 ],
 "metadata": {
  "kernelspec": {
   "display_name": "Python 3",
   "language": "python",
   "name": "python3"
  },
  "language_info": {
   "codemirror_mode": {
    "name": "ipython",
    "version": 3
   },
   "file_extension": ".py",
   "mimetype": "text/x-python",
   "name": "python",
   "nbconvert_exporter": "python",
   "pygments_lexer": "ipython3"
  }
 },
 "nbformat": 4,
 "nbformat_minor": 2
}
