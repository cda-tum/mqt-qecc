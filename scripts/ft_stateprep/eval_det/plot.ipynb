{
 "cells": [
  {
   "cell_type": "code",
   "execution_count": null,
   "metadata": {},
   "outputs": [],
   "source": [
    "import matplotlib.pyplot as plt\n",
    "import numpy as np\n",
    "import pandas as pd\n",
    "\n",
    "from mqt.qecc.ft_stateprep import DeterministicVerification"
   ]
  },
  {
   "cell_type": "code",
   "execution_count": null,
   "metadata": {},
   "outputs": [],
   "source": [
    "data = pd.read_csv(\"results.csv\", index_col=0)\n",
    "data.reset_index(inplace=True, drop=True)\n",
    "data.head()"
   ]
  },
  {
   "cell_type": "markdown",
   "metadata": {},
   "source": [
    "# 1. Compute numbers for the table"
   ]
  },
  {
   "cell_type": "code",
   "execution_count": null,
   "metadata": {},
   "outputs": [],
   "source": [
    "eval_names = {\"array\": np.array, \"int8\": np.int8, \"nan\": np.nan}\n",
    "for index, row in data.iterrows():\n",
    "    verify_0 = DeterministicVerification(\n",
    "        eval(row[\"verification_stabs_0\"], eval_names),  # noqa: S307\n",
    "        eval(row[\"recovery_stabs_0\"], eval_names),  # noqa: S307\n",
    "        eval(row[\"flags_0\"], eval_names),  # noqa: S307\n",
    "    )\n",
    "    verify_1 = DeterministicVerification(\n",
    "        eval(row[\"verification_stabs_1\"], eval_names),  # noqa: S307\n",
    "        eval(row[\"recovery_stabs_1\"], eval_names),  # noqa: S307\n",
    "        eval(row[\"flags_1\"], eval_names),  # noqa: S307\n",
    "    )\n",
    "    # add column\n",
    "    funs = [min, max, sum, np.mean]\n",
    "    data.at[index, \"verify_num_anc_0\"] = verify_0.num_ancillae_verification()\n",
    "    data.at[index, \"verify_num_cnots_0\"] = verify_0.num_cnots_verification()\n",
    "    data.at[index, \"verify_num_anc_1\"] = verify_1.num_ancillae_verification()\n",
    "    data.at[index, \"verify_num_cnots_1\"] = verify_1.num_cnots_verification()\n",
    "    data.at[index, \"correction_num_anc_0\"] = str([verify_0.stat_ancillae_correction(fun) for fun in funs])\n",
    "    data.at[index, \"correction_num_anc_list_0\"] = str(verify_0.stat_ancillae_correction(list))\n",
    "    data.at[index, \"correction_num_cnots_0\"] = str([verify_0.stat_cnots_correction(fun) for fun in funs])\n",
    "    data.at[index, \"correction_num_cnots_list_0\"] = str(verify_0.stat_cnots_correction(list))\n",
    "    data.at[index, \"correction_num_anc_1\"] = str([verify_1.stat_ancillae_correction(fun) for fun in funs])\n",
    "    data.at[index, \"correction_num_anc_list_1\"] = str(verify_1.stat_ancillae_correction(list))\n",
    "    data.at[index, \"correction_num_cnots_1\"] = str([verify_1.stat_cnots_correction(fun) for fun in funs])\n",
    "    data.at[index, \"correction_num_cnots_list_1\"] = str(verify_1.stat_cnots_correction(list))\n",
    "    data.at[index, \"flag_num_anc_0\"] = verify_0.num_ancillae_hooks()\n",
    "    data.at[index, \"flag_num_cnots_0\"] = verify_0.num_cnots_hooks()\n",
    "    data.at[index, \"flag_num_anc_1\"] = verify_1.num_ancillae_hooks()\n",
    "    data.at[index, \"flag_num_cnots_1\"] = verify_1.num_cnots_hooks()\n",
    "    data.at[index, \"flag_correction_num_anc_0\"] = str([verify_0.stat_ancillae_hook_corrections(fun) for fun in funs])\n",
    "    data.at[index, \"flag_correction_num_anc_list_0\"] = str(verify_0.stat_ancillae_hook_corrections(list))\n",
    "    data.at[index, \"flag_correction_num_cnots_0\"] = str([verify_0.stat_cnots_hook_corrections(fun) for fun in funs])\n",
    "    data.at[index, \"flag_correction_num_cnots_list_0\"] = str(verify_0.stat_cnots_hook_corrections(list))\n",
    "    data.at[index, \"flag_correction_num_anc_1\"] = str([verify_1.stat_ancillae_hook_corrections(fun) for fun in funs])\n",
    "    data.at[index, \"flag_correction_num_anc_list_1\"] = str(verify_1.stat_ancillae_hook_corrections(list))\n",
    "    data.at[index, \"flag_correction_num_cnots_1\"] = str([verify_1.stat_cnots_hook_corrections(fun) for fun in funs])\n",
    "    data.at[index, \"flag_correction_num_cnots_list_1\"] = str(verify_1.stat_cnots_hook_corrections(list))"
   ]
  },
  {
   "cell_type": "code",
   "execution_count": null,
   "metadata": {},
   "outputs": [],
   "source": [
    "# remove above columns\n",
    "data_table = data.copy()\n",
    "\n",
    "stats_columns = [\n",
    "    \"verification_stabs_0\",\n",
    "    \"recovery_stabs_0\",\n",
    "    \"flags_0\",\n",
    "    \"verification_stabs_1\",\n",
    "    \"recovery_stabs_1\",\n",
    "    \"flags_1\",\n",
    "]\n",
    "error_rates_columns = [\"logical_error_rates\"]\n",
    "data_table = data_table.drop(columns=stats_columns)\n",
    "data_table = data_table.drop(columns=error_rates_columns)\n",
    "# data_table"
   ]
  },
  {
   "cell_type": "markdown",
   "metadata": {},
   "source": [
    "# 2. Create Plot with logical error rates"
   ]
  },
  {
   "cell_type": "code",
   "execution_count": null,
   "metadata": {},
   "outputs": [],
   "source": [
    "fig = plt.figure(figsize=(5, 4))\n",
    "ax = fig.add_subplot(111)\n",
    "\n",
    "physical_error_rates = [1e-4, 5e-4, 1e-3, 5e-3, 1e-2, 5e-2, 1e-1, 5e-1]\n",
    "# fmts = ['o--', 's--', 'd--', 'x--', 'v--', '^--', '<--', '>--' , 'o--']\n",
    "fmts = [\"o:\", \"s:\", \"d:\", \"x:\", \"v:\", \"^:\", \"<:\", \">:\", \"o:\"]\n",
    "fmt_idx = 0\n",
    "\n",
    "data_sorted = data.sort_values(by=\"code\")\n",
    "\n",
    "sim_col = \"logical_error_rates\"\n",
    "for _, row in data_sorted.iterrows():\n",
    "    if not row[\"zero_state\"] and row[\"code\"] != \"tetrahedral\":\n",
    "        continue\n",
    "    if row[\"zero_state\"] and row[\"code\"] == \"tetrahedral\":\n",
    "        continue\n",
    "    if row[\"procedure\"] != \"heuristic\" or row[\"verification\"] != \"optimal\":\n",
    "        continue\n",
    "    code_name = row[\"code\"].capitalize()\n",
    "    if code_name == \"16_2_4\":\n",
    "        code_name = r\"$[[16, 2, 4]]$\"\n",
    "    elif code_name == \"11_1_3\":\n",
    "        code_name = r\"$[[11, 1, 3]]$\"\n",
    "    elif code_name == \"Hypercube\":\n",
    "        code_name = \"Tesseract\"\n",
    "    upper_bound, std = eval(row[sim_col], eval_names)[-2:]  # noqa: S307\n",
    "    ax.errorbar(physical_error_rates, upper_bound, label=code_name, fmt=fmts[fmt_idx])\n",
    "    fmt_idx += 1\n",
    "\n",
    "\n",
    "# add linear line as reference\n",
    "ax.plot(physical_error_rates, physical_error_rates, label=\"Linear\", linestyle=\"--\", color=\"black\", alpha=0.5)\n",
    "\n",
    "ax.set_xscale(\"log\")\n",
    "ax.set_yscale(\"log\")\n",
    "ax.set_ylabel(\"Logical error rate $p_{\\mathrm{L}}$\")\n",
    "ax.set_xlabel(r\"Physical error rate $p$\")\n",
    "ax.set_xlim(1e-4, 0.5)\n",
    "ax.set_ylim(1e-7, 1)\n",
    "\n",
    "ax.legend(loc=\"lower right\")\n",
    "# define order of legend\n",
    "handles, labels = ax.get_legend_handles_labels()\n",
    "order = [0, 7, 6, 8, 1, 9, 4, 3, 2, 5]\n",
    "ax.legend([handles[idx] for idx in order], [labels[idx] for idx in order], loc=\"lower right\")\n",
    "\n",
    "plt.show()\n",
    "fig.savefig(\"logical_error_rates.pdf\", bbox_inches=\"tight\")"
   ]
  }
 ],
 "metadata": {
  "kernelspec": {
   "display_name": ".venv",
   "language": "python",
   "name": "python3"
  },
  "language_info": {
   "codemirror_mode": {
    "name": "ipython",
    "version": 3
   },
   "file_extension": ".py",
   "mimetype": "text/x-python",
   "name": "python",
   "nbconvert_exporter": "python",
   "pygments_lexer": "ipython3"
  }
 },
 "nbformat": 4,
 "nbformat_minor": 2
}
